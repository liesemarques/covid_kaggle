{
  "nbformat": 4,
  "nbformat_minor": 0,
  "metadata": {
    "colab": {
      "name": "Covid.ipynb",
      "provenance": [],
      "collapsed_sections": [],
      "authorship_tag": "ABX9TyN2FdBcCRgDZwt232X2KaM7",
      "include_colab_link": true
    },
    "kernelspec": {
      "name": "python3",
      "display_name": "Python 3"
    },
    "accelerator": "TPU"
  },
  "cells": [
    {
      "cell_type": "markdown",
      "metadata": {
        "id": "view-in-github",
        "colab_type": "text"
      },
      "source": [
        "<a href=\"https://colab.research.google.com/github/liesemarques/covid_kaggle/blob/main/Covid.ipynb\" target=\"_parent\"><img src=\"https://colab.research.google.com/assets/colab-badge.svg\" alt=\"Open In Colab\"/></a>"
      ]
    },
    {
      "cell_type": "markdown",
      "metadata": {
        "id": "hUP9VjrBGY-A"
      },
      "source": [
        "# Pipeline "
      ]
    },
    {
      "cell_type": "markdown",
      "metadata": {
        "id": "LTgrufe3rXpG"
      },
      "source": [
        "1. **Data acquisition**\n",
        "* Arquivo json disponibilizado pelo kaggle - https://www.kaggle.com/allen-institute-for-ai/CORD-19-research-challenge\n",
        "2. **Extração e limpeza**\n",
        "* Criação do DataFrame\n",
        "* Pré processamento e limpeza\n",
        "3. **Amostra da base**\n",
        "* Foram extraidos 500 artigos \n",
        "4. **Função de pre-processamento**\n",
        "* Tokenization\n",
        "* Lowercasing - Substituição das palavras maiusculas em minusculas\n",
        "* Lemmatization - Lemmatization reduz as palavras em lemmas, nas formas básicas das palavras Ex: 'Smoking' para 'Smoke'\n",
        "* Remoção das StopWords, Pontos, Espaços e numeros\n",
        "6. **Pesquisa com spaCy**\n",
        "* Imprimindo textos com palavras encontradas\n",
        "7. **Similaridade entre strings com fuzzywuzzy**\n",
        "* Comparação com o texto completo\n",
        "* Comparação com o abstract\n",
        "\n",
        "\n",
        "\n",
        "\n"
      ]
    },
    {
      "cell_type": "markdown",
      "metadata": {
        "id": "oVUNMuP3GlwB"
      },
      "source": [
        "## Data Acquisition\n",
        "\n",
        "## Text Extraction and Cleanup\n",
        "* HTML Parsing and Cleanup\n",
        "* Unicode Normalization\n",
        "* Spelling Correction\n",
        "\n",
        "## Pre-Processing\n",
        "\n",
        "para essa etapa precisamos dividir um texto em palavras e frases, retirar pontos, virgulas espaços em branco e converter as palavras em 'lowercase' \n",
        "\n",
        "* Sentence segmentation and word tokenization\n",
        "NLP software analiza os textos dividindo em palavras (tokens) e sentençassenten\n",
        "* StopWord removal, stemming and lemmatization, removing digits/punctuation, lowercasing\n",
        "* POS tagging, parsing, coreference resolution, etc\n",
        "\n",
        "## Feature Engineering\n",
        "\n",
        "## Modeling\n",
        "\n",
        "## Evaluation\n",
        "\n",
        "## Pos Modeling Phases\n",
        "\n",
        "* Deployment\n",
        "* Monitoring\n",
        "* Model Updateing\n",
        "\n"
      ]
    },
    {
      "cell_type": "markdown",
      "metadata": {
        "id": "uy7kCErEWIKT"
      },
      "source": [
        "# Carregando as bibliotecas"
      ]
    },
    {
      "cell_type": "code",
      "metadata": {
        "id": "Y1ntGcntFEXk"
      },
      "source": [
        "import numpy as np\n",
        "import zipfile\n",
        "import pandas as pd\n",
        "import glob\n",
        "import json\n",
        "import seaborn as sns\n",
        "import spacy\n",
        "import nltk\n",
        "from IPython.core.display import HTML\n",
        "from matplotlib import pyplot as plt"
      ],
      "execution_count": 1,
      "outputs": []
    },
    {
      "cell_type": "code",
      "metadata": {
        "id": "nCfNPBqTr2kT"
      },
      "source": [
        "# !pip install spacy==2.2"
      ],
      "execution_count": null,
      "outputs": []
    },
    {
      "cell_type": "code",
      "metadata": {
        "id": "enz9mVqZFz9k"
      },
      "source": [
        "# https://allenai.github.io/scispacy/\n",
        "!pip install scispacy"
      ],
      "execution_count": null,
      "outputs": []
    },
    {
      "cell_type": "code",
      "metadata": {
        "id": "x3G2zRy3GZQG"
      },
      "source": [
        "# Pacote python contendo modelos spacy para processar textos biomedicos\n",
        "import scispacy"
      ],
      "execution_count": 2,
      "outputs": []
    },
    {
      "cell_type": "code",
      "metadata": {
        "id": "fg38BtFlG5r1"
      },
      "source": [
        "!pip install https://s3-us-west-2.amazonaws.com/ai2-s2-scispacy/releases/v0.2.5/en_core_sci_md-0.2.5.tar.gz"
      ],
      "execution_count": null,
      "outputs": []
    },
    {
      "cell_type": "code",
      "metadata": {
        "id": "zfAULBSOHeVO"
      },
      "source": [
        "import en_core_sci_md"
      ],
      "execution_count": 4,
      "outputs": []
    },
    {
      "cell_type": "code",
      "metadata": {
        "id": "OsOeySS7HtjO"
      },
      "source": [
        "!python -m spacy download en"
      ],
      "execution_count": null,
      "outputs": []
    },
    {
      "cell_type": "markdown",
      "metadata": {
        "id": "UlyayX373szQ"
      },
      "source": [
        "# Drive"
      ]
    },
    {
      "cell_type": "code",
      "metadata": {
        "id": "LuKQFzwqH7Vw",
        "colab": {
          "base_uri": "https://localhost:8080/"
        },
        "outputId": "92a87b82-0950-41df-9569-ec66114fc9da"
      },
      "source": [
        "from google.colab import drive\n",
        "drive.mount('/content/gdrive')"
      ],
      "execution_count": 6,
      "outputs": [
        {
          "output_type": "stream",
          "text": [
            "Mounted at /content/gdrive\n"
          ],
          "name": "stdout"
        }
      ]
    },
    {
      "cell_type": "code",
      "metadata": {
        "id": "0H3KtuvkJR0c"
      },
      "source": [
        "path = '/content/gdrive/MyDrive/Covid/archive.zip'\n",
        "zip_object = zipfile.ZipFile(file=path, mode = 'r')\n",
        "zip_object.extractall('./')\n",
        "zip_object.close()"
      ],
      "execution_count": null,
      "outputs": []
    },
    {
      "cell_type": "markdown",
      "metadata": {
        "id": "zRaZIuVqVmuJ"
      },
      "source": [
        "# Extração dos textos\n",
        "## Criação do DataFrame"
      ]
    },
    {
      "cell_type": "code",
      "metadata": {
        "id": "yQ-8BOyKLP6o"
      },
      "source": [
        "corona_features = {'paper_id': [], 'title': [],\n",
        "                   'abstract': [], 'text': []}\n",
        "\n",
        "corona_df = pd.DataFrame.from_dict(corona_features)"
      ],
      "execution_count": null,
      "outputs": []
    },
    {
      "cell_type": "code",
      "metadata": {
        "id": "6GwCCuEWgHjQ"
      },
      "source": [
        " json_files = glob.glob(f'{\"/content/document_parses\"}//**/*.json',recursive=True )\n"
      ],
      "execution_count": null,
      "outputs": []
    },
    {
      "cell_type": "code",
      "metadata": {
        "colab": {
          "base_uri": "https://localhost:8080/"
        },
        "id": "XcUEPccUkj05",
        "outputId": "e157c39f-fc10-4c5a-86d4-7f2c2f55f79f"
      },
      "source": [
        "len(json_files)"
      ],
      "execution_count": null,
      "outputs": [
        {
          "output_type": "execute_result",
          "data": {
            "text/plain": [
              "222496"
            ]
          },
          "metadata": {
            "tags": []
          },
          "execution_count": 40
        }
      ]
    },
    {
      "cell_type": "code",
      "metadata": {
        "id": "0dIHiyrSkxca"
      },
      "source": [
        "for json_f in json_files:\n",
        "  with open(json_f) as json_data:\n",
        "    data = json.load(json_data)"
      ],
      "execution_count": null,
      "outputs": []
    },
    {
      "cell_type": "code",
      "metadata": {
        "id": "rm6tkZCDp2Vu"
      },
      "source": [
        "def return_corona_df(json_filenames, df):\n",
        "  for file_names in json_filenames:\n",
        "    row= {'paper_id':None, 'title':None,'abstract': None, 'text': None }\n",
        "  \n",
        "    with open(file_names) as json_data:\n",
        " \n",
        "      data = json.load(json_data)\n",
        "\n",
        "      if 'paper_id' not in data:\n",
        "        row['paper_id'] = np.nan\n",
        "      else:\n",
        "        row['paper_id'] = data['paper_id'].strip() \n",
        "      \n",
        "      if 'metadata' not in data:\n",
        "        row['metadata'] = np.nan\n",
        "      else:  \n",
        "        row['title'] = data['metadata']['title'].strip()\n",
        "        \n",
        "      if 'abstract' not in data:\n",
        "        row['abstract'] = np.nan\n",
        "      else:\n",
        "        abstract_list = [abstract['text'] for abstract in data['abstract']]\n",
        "        abstract = '\\n '.join(abstract_list)\n",
        "        row['abstract'] = abstract.strip()\n",
        "   \n",
        "      if 'body_text' not in data:\n",
        "        row['body_text'] = np.nan\n",
        "      else:\n",
        "        text_list = [text['text'] for text in data['body_text']]\n",
        "        text = '\\n '.join(text_list)\n",
        "        row['text'] = text.strip()\n",
        "\n",
        "        df = df.append(row, ignore_index = True)\n",
        "  return df   \n"
      ],
      "execution_count": null,
      "outputs": []
    },
    {
      "cell_type": "code",
      "metadata": {
        "id": "pVSrMkV0_XqZ"
      },
      "source": [
        "corona_df = return_corona_df(json_files , corona_df)"
      ],
      "execution_count": null,
      "outputs": []
    },
    {
      "cell_type": "code",
      "metadata": {
        "id": "HtRJlUoLPKEi"
      },
      "source": [
        "corona_df.to_csv('/content/gdrive/MyDrive/Covid/corona_df.csv', index=False)"
      ],
      "execution_count": null,
      "outputs": []
    },
    {
      "cell_type": "markdown",
      "metadata": {
        "id": "RgsUZqjAVv09"
      },
      "source": [
        "# Pré processamento e limpeza"
      ]
    },
    {
      "cell_type": "code",
      "metadata": {
        "id": "5z95pjr5U6jd"
      },
      "source": [
        "corona_df = pd.read_csv('/content/gdrive/MyDrive/Covid/corona_df.csv')"
      ],
      "execution_count": 2,
      "outputs": []
    },
    {
      "cell_type": "code",
      "metadata": {
        "id": "jLJ4E58FASi5",
        "colab": {
          "base_uri": "https://localhost:8080/"
        },
        "outputId": "c5bc862d-982a-48e5-cdd1-558163cec0eb"
      },
      "source": [
        "corona_df.shape"
      ],
      "execution_count": 3,
      "outputs": [
        {
          "output_type": "execute_result",
          "data": {
            "text/plain": [
              "(127120, 4)"
            ]
          },
          "metadata": {
            "tags": []
          },
          "execution_count": 3
        }
      ]
    },
    {
      "cell_type": "code",
      "metadata": {
        "id": "vWVTrBco4VbZ",
        "colab": {
          "base_uri": "https://localhost:8080/",
          "height": 290
        },
        "outputId": "c206eb9e-5525-41c3-f07a-0bcee7d68662"
      },
      "source": [
        "# https://seaborn.pydata.org/examples/spreadsheet_heatmap.html\n",
        "sns.set(rc={'figure.figsize': (8,4)})\n",
        "sns.heatmap(corona_df.isnull())"
      ],
      "execution_count": 4,
      "outputs": [
        {
          "output_type": "execute_result",
          "data": {
            "text/plain": [
              "<matplotlib.axes._subplots.AxesSubplot at 0x7f76d5a73cc0>"
            ]
          },
          "metadata": {
            "tags": []
          },
          "execution_count": 4
        },
        {
          "output_type": "display_data",
          "data": {
            "image/png": "[encoded data removed]",
            "text/plain": [
              "<Figure size 576x288 with 2 Axes>"
            ]
          },
          "metadata": {
            "tags": []
          }
        }
      ]
    },
    {
      "cell_type": "code",
      "metadata": {
        "colab": {
          "base_uri": "https://localhost:8080/"
        },
        "id": "NKZQ_WTp6DBC",
        "outputId": "ebd720ce-73a9-4dc9-98a0-a0c6d5d62699"
      },
      "source": [
        "for i in corona_df.columns:\n",
        "    print(f\"Dados faltantes em {i} = {len(corona_df[corona_df[i] == ''])}\")"
      ],
      "execution_count": 5,
      "outputs": [
        {
          "output_type": "stream",
          "text": [
            "Dados faltantes em paper_id = 0\n",
            "Dados faltantes em title = 0\n",
            "Dados faltantes em abstract = 0\n",
            "Dados faltantes em text = 0\n"
          ],
          "name": "stdout"
        }
      ]
    },
    {
      "cell_type": "code",
      "metadata": {
        "id": "bTTEU4b5-vFk"
      },
      "source": [
        "for i in corona_df.columns:\n",
        "  corona_df = corona_df[corona_df[i].notnull()]"
      ],
      "execution_count": 6,
      "outputs": []
    },
    {
      "cell_type": "code",
      "metadata": {
        "colab": {
          "base_uri": "https://localhost:8080/"
        },
        "id": "5nsX9uD2-8Gb",
        "outputId": "6f1767ed-42b3-4f91-d8b5-c6e52f9687e6"
      },
      "source": [
        "corona_df.isnull().sum()"
      ],
      "execution_count": 7,
      "outputs": [
        {
          "output_type": "execute_result",
          "data": {
            "text/plain": [
              "paper_id    0\n",
              "title       0\n",
              "abstract    0\n",
              "text        0\n",
              "dtype: int64"
            ]
          },
          "metadata": {
            "tags": []
          },
          "execution_count": 7
        }
      ]
    },
    {
      "cell_type": "code",
      "metadata": {
        "colab": {
          "base_uri": "https://localhost:8080/",
          "height": 290
        },
        "id": "t-UNqB8k_VrW",
        "outputId": "5dfe31eb-ee75-40d1-9ea1-757e37f0842e"
      },
      "source": [
        "sns.set(rc={'figure.figsize': (8,4)})\n",
        "sns.heatmap(corona_df.isnull())"
      ],
      "execution_count": 8,
      "outputs": [
        {
          "output_type": "execute_result",
          "data": {
            "text/plain": [
              "<matplotlib.axes._subplots.AxesSubplot at 0x7f76d4199080>"
            ]
          },
          "metadata": {
            "tags": []
          },
          "execution_count": 8
        },
        {
          "output_type": "display_data",
          "data": {
            "image/png": "[encoded data removed]",
            "text/plain": [
              "<Figure size 576x288 with 2 Axes>"
            ]
          },
          "metadata": {
            "tags": []
          }
        }
      ]
    },
    {
      "cell_type": "code",
      "metadata": {
        "id": "Py-9B-Hb6fL_"
      },
      "source": [
        "corona_df.drop_duplicates(['abstract','text','title'], inplace = True)"
      ],
      "execution_count": 17,
      "outputs": []
    },
    {
      "cell_type": "code",
      "metadata": {
        "id": "R4j5uQq1Dljo",
        "colab": {
          "base_uri": "https://localhost:8080/"
        },
        "outputId": "5ff1ec53-95d9-45c9-904c-90dd872ff4ea"
      },
      "source": [
        "corona_df.shape"
      ],
      "execution_count": 18,
      "outputs": [
        {
          "output_type": "execute_result",
          "data": {
            "text/plain": [
              "(83082, 4)"
            ]
          },
          "metadata": {
            "tags": []
          },
          "execution_count": 18
        }
      ]
    },
    {
      "cell_type": "code",
      "metadata": {
        "id": "hBc4fxZpFCnT"
      },
      "source": [
        "# corona_df.to_csv('/content/gdrive/MyDrive/Covid/corona_df.csv', index=False)"
      ],
      "execution_count": 17,
      "outputs": []
    },
    {
      "cell_type": "markdown",
      "metadata": {
        "id": "D8R-zMDT7yic"
      },
      "source": [
        "# Amostra da base"
      ]
    },
    {
      "cell_type": "code",
      "metadata": {
        "id": "3HuWcaU8zaq_"
      },
      "source": [
        "corona_df = corona_df.sample(n=500, random_state=1)"
      ],
      "execution_count": 19,
      "outputs": []
    },
    {
      "cell_type": "code",
      "metadata": {
        "colab": {
          "base_uri": "https://localhost:8080/",
          "height": 204
        },
        "id": "ZouwM_yJ0XzF",
        "outputId": "35659241-eda7-4ecd-e5a3-56f0093a1f76"
      },
      "source": [
        "corona_df.head()"
      ],
      "execution_count": 20,
      "outputs": [
        {
          "output_type": "execute_result",
          "data": {
            "text/html": [
              "<div>\n",
              "<style scoped>\n",
              "    .dataframe tbody tr th:only-of-type {\n",
              "        vertical-align: middle;\n",
              "    }\n",
              "\n",
              "    .dataframe tbody tr th {\n",
              "        vertical-align: top;\n",
              "    }\n",
              "\n",
              "    .dataframe thead th {\n",
              "        text-align: right;\n",
              "    }\n",
              "</style>\n",
              "<table border=\"1\" class=\"dataframe\">\n",
              "  <thead>\n",
              "    <tr style=\"text-align: right;\">\n",
              "      <th></th>\n",
              "      <th>paper_id</th>\n",
              "      <th>title</th>\n",
              "      <th>abstract</th>\n",
              "      <th>text</th>\n",
              "    </tr>\n",
              "  </thead>\n",
              "  <tbody>\n",
              "    <tr>\n",
              "      <th>64433</th>\n",
              "      <td>fade460bf8de5b9a3e162a27b18be97711ae9d5f</td>\n",
              "      <td>Digital crowdsourcing: unleashing its power in...</td>\n",
              "      <td>The COVID-19 pandemic forces the whole rheumat...</td>\n",
              "      <td>The COVID-19 pandemic forces the whole rheumat...</td>\n",
              "    </tr>\n",
              "    <tr>\n",
              "      <th>42787</th>\n",
              "      <td>89fc9313acfb9f369da4faf3bbeb23a0ebf6b8fb</td>\n",
              "      <td>Social determinants of COVID-19 mortality at t...</td>\n",
              "      <td>Objective: To assess the associations between ...</td>\n",
              "      <td>A novel coronavirus responsible for COVID-19 r...</td>\n",
              "    </tr>\n",
              "    <tr>\n",
              "      <th>126220</th>\n",
              "      <td>c3c95c3c3c73f56363dcb35f86d777c3eec7119e</td>\n",
              "      <td>Cost effectiveness of interventions for Post-T...</td>\n",
              "      <td>Post-traumatic stress disorder (PTSD) is commo...</td>\n",
              "      <td>Posttraumatic stress disorder (PTSD), a severe...</td>\n",
              "    </tr>\n",
              "    <tr>\n",
              "      <th>87361</th>\n",
              "      <td>ae6a39e4f01895047472c4e9d9f05e2d74e830e5</td>\n",
              "      <td>Hypofractionation in COVID-19 Radiotherapy: A ...</td>\n",
              "      <td>This is a PDF file of an article that has unde...</td>\n",
              "      <td>Since January 2020, the spread of the COVID-19...</td>\n",
              "    </tr>\n",
              "    <tr>\n",
              "      <th>89363</th>\n",
              "      <td>e175d2739c6f2d5682c201392ca0c6f6d1dbceb5</td>\n",
              "      <td>Reduced-Cost Constrained Modeling of Microwave...</td>\n",
              "      <td>Electromagnetic (EM) simulation models are ubi...</td>\n",
              "      <td>Design of contemporary microwave and antenna c...</td>\n",
              "    </tr>\n",
              "  </tbody>\n",
              "</table>\n",
              "</div>"
            ],
            "text/plain": [
              "                                        paper_id  ...                                               text\n",
              "64433   fade460bf8de5b9a3e162a27b18be97711ae9d5f  ...  The COVID-19 pandemic forces the whole rheumat...\n",
              "42787   89fc9313acfb9f369da4faf3bbeb23a0ebf6b8fb  ...  A novel coronavirus responsible for COVID-19 r...\n",
              "126220  c3c95c3c3c73f56363dcb35f86d777c3eec7119e  ...  Posttraumatic stress disorder (PTSD), a severe...\n",
              "87361   ae6a39e4f01895047472c4e9d9f05e2d74e830e5  ...  Since January 2020, the spread of the COVID-19...\n",
              "89363   e175d2739c6f2d5682c201392ca0c6f6d1dbceb5  ...  Design of contemporary microwave and antenna c...\n",
              "\n",
              "[5 rows x 4 columns]"
            ]
          },
          "metadata": {
            "tags": []
          },
          "execution_count": 20
        }
      ]
    },
    {
      "cell_type": "markdown",
      "metadata": {
        "id": "1jE7N9k-2JSU"
      },
      "source": [
        "# Função de pre-processamento\n",
        "* Tokenization -- https://spacy.io/usage/linguistic-features#tokenization\n",
        "* Lowercasing - Substituição das palavras maiusculas em minusculas\n",
        "* Lemmatization - Lemmatization reduz as palavras em lemmas, nas formas básicas das palavras Ex: 'Smoking' para 'Smoke'\n",
        "* StopWords"
      ]
    },
    {
      "cell_type": "code",
      "metadata": {
        "id": "8oSlcquXpWvF"
      },
      "source": [
        "nlp = spacy.load(\"en_core_sci_md\",disable=[\"tagger\", \"parser\"])\n",
        "nlp.max_length = 2000000"
      ],
      "execution_count": 21,
      "outputs": []
    },
    {
      "cell_type": "code",
      "metadata": {
        "id": "Ct0lruTpwRGP"
      },
      "source": [
        "nlp_ent = spacy.load(\"en\")\n",
        "nlp_ent.max_length = 2000000"
      ],
      "execution_count": 22,
      "outputs": []
    },
    {
      "cell_type": "code",
      "metadata": {
        "id": "cyjgug05M5aV"
      },
      "source": [
        "# Algumas palavras encontradas na nuvem de palavras que não estavam nas stop word do spacy\n",
        "new_stop_words = ['et', 'al', 'doi', 'copyright', 'http', 'https', 'fig', 'table', 'result', 'show']\n",
        "for word in new_stop_words:\n",
        "  nlp.vocab[word].is_stop = True"
      ],
      "execution_count": 23,
      "outputs": []
    },
    {
      "cell_type": "code",
      "metadata": {
        "id": "FLPJPbiRvsD7"
      },
      "source": [
        "def spacy_token(sentence):\n",
        "  sentence = sentence.lower()\n",
        "  lista = []\n",
        "  lista = [word.lemma_ for word in nlp(sentence) if not (word.is_stop or # Remoção das stopwords\n",
        "                                                         word.like_num or # Remoção dos numeros\n",
        "                                                         word.is_punct or # Remoção dos pontos\n",
        "                                                         word.is_space or # Remoção dos espaços\n",
        "                                                         len(word) == 1)]\n",
        "\n",
        "\n",
        "  lista = ' '.join(text for text in lista)\n",
        "  return lista"
      ],
      "execution_count": 25,
      "outputs": []
    },
    {
      "cell_type": "code",
      "metadata": {
        "id": "QMEtaWw--kuS"
      },
      "source": [
        "# Aplicando a função spacy_token na amostra com 500 artigos\n",
        "corona_df['text'] = corona_df['text'].apply(spacy_token)"
      ],
      "execution_count": 26,
      "outputs": []
    },
    {
      "cell_type": "markdown",
      "metadata": {
        "id": "R5qwZA6vQrrY"
      },
      "source": [
        "# Visualização dos paises e cidades mais citados em artigos"
      ]
    },
    {
      "cell_type": "code",
      "metadata": {
        "id": "V1wFNgI7rNJU"
      },
      "source": [
        "text = corona_df['text'][126220]\n",
        "doc = nlp_ent(text)"
      ],
      "execution_count": 27,
      "outputs": []
    },
    {
      "cell_type": "code",
      "metadata": {
        "id": "jDwVGMm9vWdq",
        "colab": {
          "base_uri": "https://localhost:8080/",
          "height": 1000
        },
        "outputId": "ab8facc8-9cb8-4037-81a2-9af933b2f4f3"
      },
      "source": [
        "from spacy import displacy\n",
        "displacy.render(doc, style=\"ent\", jupyter=True)"
      ],
      "execution_count": 28,
      "outputs": [
        {
          "output_type": "display_data",
          "data": {
            "text/html": [
              "<span class=\"tex2jax_ignore\"><div class=\"entities\" style=\"line-height: 2.5; direction: ltr\">posttraumatic stress disorder ptsd severe chronic condition associate high level functional impairment common single psychiatric outcome major incident worldwide include pandemic bonanno brewin \n",
              "<mark class=\"entity\" style=\"background: #aa9cfc; padding: 0.45em 0.6em; margin: 0 0.25em; line-height: 1; border-radius: 0.35em;\">\n",
              "    kaniasty la greca\n",
              "    <span style=\"font-size: 0.8em; font-weight: bold; line-height: 1; border-radius: 0.35em; text-transform: uppercase; vertical-align: middle; margin-left: 0.5rem\">PERSON</span>\n",
              "</mark>\n",
              " ghebreyesus \n",
              "<mark class=\"entity\" style=\"background: #aa9cfc; padding: 0.45em 0.6em; margin: 0 0.25em; line-height: 1; border-radius: 0.35em;\">\n",
              "    mak al.\n",
              "    <span style=\"font-size: 0.8em; font-weight: bold; line-height: 1; border-radius: 0.35em; text-transform: uppercase; vertical-align: middle; margin-left: 0.5rem\">PERSON</span>\n",
              "</mark>\n",
              " maunder al. follow exposure terrorist attack example adult prevalence ptsd estimate whalley brewin sequela include anxiety depression substance misuse despite existence effective psychological therapy ptsd typically remain untreated occur context major incident pfefferbaum \n",
              "<mark class=\"entity\" style=\"background: #aa9cfc; padding: 0.45em 0.6em; margin: 0 0.25em; line-height: 1; border-radius: 0.35em;\">\n",
              "    al.\n",
              "    <span style=\"font-size: 0.8em; font-weight: bold; line-height: 1; border-radius: 0.35em; text-transform: uppercase; vertical-align: middle; margin-left: 0.5rem\">PERSON</span>\n",
              "</mark>\n",
              " \n",
              "<mark class=\"entity\" style=\"background: #aa9cfc; padding: 0.45em 0.6em; margin: 0 0.25em; line-height: 1; border-radius: 0.35em;\">\n",
              "    wang al\n",
              "    <span style=\"font-size: 0.8em; font-weight: bold; line-height: 1; border-radius: 0.35em; text-transform: uppercase; vertical-align: middle; margin-left: 0.5rem\">PERSON</span>\n",
              "</mark>\n",
              ". wtc medical work group reason well-understood combination low priority strategic plan policy development level general low level public understand poor recognition primary care avoidance define symptom \n",
              "<mark class=\"entity\" style=\"background: #bfe1d9; padding: 0.45em 0.6em; margin: 0 0.25em; line-height: 1; border-radius: 0.35em;\">\n",
              "    recent year\n",
              "    <span style=\"font-size: 0.8em; font-weight: bold; line-height: 1; border-radius: 0.35em; text-transform: uppercase; vertical-align: middle; margin-left: 0.5rem\">DATE</span>\n",
              "</mark>\n",
              " health system begin address problem institute proactive outreach affect population couple screen signpost evidence-based treatment brewin \n",
              "<mark class=\"entity\" style=\"background: #aa9cfc; padding: 0.45em 0.6em; margin: 0 0.25em; line-height: 1; border-radius: 0.35em;\">\n",
              "    al.\n",
              "    <span style=\"font-size: 0.8em; font-weight: bold; line-height: 1; border-radius: 0.35em; text-transform: uppercase; vertical-align: middle; margin-left: 0.5rem\">PERSON</span>\n",
              "</mark>\n",
              " dyb al. \n",
              "<mark class=\"entity\" style=\"background: #c887fb; padding: 0.45em 0.6em; margin: 0 0.25em; line-height: 1; border-radius: 0.35em;\">\n",
              "    french\n",
              "    <span style=\"font-size: 0.8em; font-weight: bold; line-height: 1; border-radius: 0.35em; text-transform: uppercase; vertical-align: middle; margin-left: 0.5rem\">NORP</span>\n",
              "</mark>\n",
              " al. maslow al. paper report systematic attempt assess costeffectiveness approach datum take study terrorist attack affect \n",
              "<mark class=\"entity\" style=\"background: #feca74; padding: 0.45em 0.6em; margin: 0 0.25em; line-height: 1; border-radius: 0.35em;\">\n",
              "    uk\n",
              "    <span style=\"font-size: 0.8em; font-weight: bold; line-height: 1; border-radius: 0.35em; text-transform: uppercase; vertical-align: middle; margin-left: 0.5rem\">GPE</span>\n",
              "</mark>\n",
              " resident conclusion relevant major incident include pandemic inform response important highlight upfront psychological reaction trauma vary severity duration fortunately majority individual directly expose trauma develop ptsd symptom distress naturally decline unlikely long-term implication whalley brewin sizeable minority require mental health service small proportion need long-term intervention england public health approach follow recent major incident institute initial period watchful wait majority allow natural cope resource social support lead spontaneous remission mitigate deployment resource individual transient condition initial delay outreach screen offer population high-risk develope ptsd brief validate instrument doh national institute health care excellence \n",
              "<mark class=\"entity\" style=\"background: #bfe1d9; padding: 0.45em 0.6em; margin: 0 0.25em; line-height: 1; border-radius: 0.35em;\">\n",
              "    nice 2018a\n",
              "    <span style=\"font-size: 0.8em; font-weight: bold; line-height: 1; border-radius: 0.35em; text-transform: uppercase; vertical-align: middle; margin-left: 0.5rem\">DATE</span>\n",
              "</mark>\n",
              " step model care recommend start assessment facilitate access mental health service immediate short-term distress resolve trauma-focussed cognitive behavioural therapy cbt highly-effective treatment ptsd typically deliver session \n",
              "<mark class=\"entity\" style=\"background: #bfe1d9; padding: 0.45em 0.6em; margin: 0 0.25em; line-height: 1; border-radius: 0.35em;\">\n",
              "    nice 2018a\n",
              "    <span style=\"font-size: 0.8em; font-weight: bold; line-height: 1; border-radius: 0.35em; text-transform: uppercase; vertical-align: middle; margin-left: 0.5rem\">DATE</span>\n",
              "</mark>\n",
              " approach link evidence-based treatment outreach screen know screen-andtreat outreach-and-screen bespeak screen-and-treat programme implement england context recent major incident include trauma response programme follow \n",
              "<mark class=\"entity\" style=\"background: #feca74; padding: 0.45em 0.6em; margin: 0 0.25em; line-height: 1; border-radius: 0.35em;\">\n",
              "    london\n",
              "    <span style=\"font-size: 0.8em; font-weight: bold; line-height: 1; border-radius: 0.35em; text-transform: uppercase; vertical-align: middle; margin-left: 0.5rem\">GPE</span>\n",
              "</mark>\n",
              " bombing screen treat programme follow terrorist attack \n",
              "<mark class=\"entity\" style=\"background: #7aecec; padding: 0.45em 0.6em; margin: 0 0.25em; line-height: 1; border-radius: 0.35em;\">\n",
              "    tunisia brussels\n",
              "    <span style=\"font-size: 0.8em; font-weight: bold; line-height: 1; border-radius: 0.35em; text-transform: uppercase; vertical-align: middle; margin-left: 0.5rem\">ORG</span>\n",
              "</mark>\n",
              " \n",
              "<mark class=\"entity\" style=\"background: #7aecec; padding: 0.45em 0.6em; margin: 0 0.25em; line-height: 1; border-radius: 0.35em;\">\n",
              "    paris manchester\n",
              "    <span style=\"font-size: 0.8em; font-weight: bold; line-height: 1; border-radius: 0.35em; text-transform: uppercase; vertical-align: middle; margin-left: 0.5rem\">ORG</span>\n",
              "</mark>\n",
              " resilience hub follow \n",
              "<mark class=\"entity\" style=\"background: #aa9cfc; padding: 0.45em 0.6em; margin: 0 0.25em; line-height: 1; border-radius: 0.35em;\">\n",
              "    manchester arena\n",
              "    <span style=\"font-size: 0.8em; font-weight: bold; line-height: 1; border-radius: 0.35em; text-transform: uppercase; vertical-align: middle; margin-left: 0.5rem\">PERSON</span>\n",
              "</mark>\n",
              " bomb health wellbeing service \n",
              "<mark class=\"entity\" style=\"background: #ddd; padding: 0.45em 0.6em; margin: 0 0.25em; line-height: 1; border-radius: 0.35em;\">\n",
              "    grenfell tower\n",
              "    <span style=\"font-size: 0.8em; font-weight: bold; line-height: 1; border-radius: 0.35em; text-transform: uppercase; vertical-align: middle; margin-left: 0.5rem\">FAC</span>\n",
              "</mark>\n",
              " fire \n",
              "<mark class=\"entity\" style=\"background: #ff9561; padding: 0.45em 0.6em; margin: 0 0.25em; line-height: 1; border-radius: 0.35em;\">\n",
              "    west london\n",
              "    <span style=\"font-size: 0.8em; font-weight: bold; line-height: 1; border-radius: 0.35em; text-transform: uppercase; vertical-align: middle; margin-left: 0.5rem\">LOC</span>\n",
              "</mark>\n",
              " evaluation programme conclude screen-and-treat approach clinically effective approach address mental health need follow major incident brewin \n",
              "<mark class=\"entity\" style=\"background: #bfe1d9; padding: 0.45em 0.6em; margin: 0 0.25em; line-height: 1; border-radius: 0.35em;\">\n",
              "    al. 2010a\n",
              "    <span style=\"font-size: 0.8em; font-weight: bold; line-height: 1; border-radius: 0.35em; text-transform: uppercase; vertical-align: middle; margin-left: 0.5rem\">DATE</span>\n",
              "</mark>\n",
              " \n",
              "<mark class=\"entity\" style=\"background: #aa9cfc; padding: 0.45em 0.6em; margin: 0 0.25em; line-height: 1; border-radius: 0.35em;\">\n",
              "    cyhlarova\n",
              "    <span style=\"font-size: 0.8em; font-weight: bold; line-height: 1; border-radius: 0.35em; text-transform: uppercase; vertical-align: middle; margin-left: 0.5rem\">PERSON</span>\n",
              "</mark>\n",
              " knapp may \n",
              "<mark class=\"entity\" style=\"background: #c887fb; padding: 0.45em 0.6em; margin: 0 0.25em; line-height: 1; border-radius: 0.35em;\">\n",
              "    french\n",
              "    <span style=\"font-size: 0.8em; font-weight: bold; line-height: 1; border-radius: 0.35em; text-transform: uppercase; vertical-align: middle; margin-left: 0.5rem\">NORP</span>\n",
              "</mark>\n",
              " al. \n",
              "<mark class=\"entity\" style=\"background: #aa9cfc; padding: 0.45em 0.6em; margin: 0 0.25em; line-height: 1; border-radius: 0.35em;\">\n",
              "    gobin al. kerslake\n",
              "    <span style=\"font-size: 0.8em; font-weight: bold; line-height: 1; border-radius: 0.35em; text-transform: uppercase; vertical-align: middle; margin-left: 0.5rem\">PERSON</span>\n",
              "</mark>\n",
              " report screen-and-treat approach evidence cost-effectiveness clinical effectiveness vital support decision short-and long-term resource aim study use decision analytic model evaluate cost-effectiveness screen-and-treat approach identify treat ptsd follow major incident compare treatment-as-usual deliver identification conventional primary care route economic model synthesise evidence effectiveness different intervention evidence cost consequence action approach \n",
              "<mark class=\"entity\" style=\"background: #7aecec; padding: 0.45em 0.6em; margin: 0 0.25em; line-height: 1; border-radius: 0.35em;\">\n",
              "    standard national institute health care excellence england nice\n",
              "    <span style=\"font-size: 0.8em; font-weight: bold; line-height: 1; border-radius: 0.35em; text-transform: uppercase; vertical-align: middle; margin-left: 0.5rem\">ORG</span>\n",
              "</mark>\n",
              " look case invest health care intervention assumption model vary help provide decision maker range policy-relevant information include uncertainty right reserve reuse allow permission certify peer review author/funder grant medrxiv license display preprint perpetuity holder preprint version post june https://doi.org/10.1101 /2020 evidence effect level \n",
              "<mark class=\"entity\" style=\"background: #ddd; padding: 0.45em 0.6em; margin: 0 0.25em; line-height: 1; border-radius: 0.35em;\">\n",
              "    uptake sustain\n",
              "    <span style=\"font-size: 0.8em; font-weight: bold; line-height: 1; border-radius: 0.35em; text-transform: uppercase; vertical-align: middle; margin-left: 0.5rem\">FAC</span>\n",
              "</mark>\n",
              " use model extrapolate long-term impact see empirical trial decision tree construct \n",
              "<mark class=\"entity\" style=\"background: #7aecec; padding: 0.45em 0.6em; margin: 0 0.25em; line-height: 1; border-radius: 0.35em;\">\n",
              "    microsoft\n",
              "    <span style=\"font-size: 0.8em; font-weight: bold; line-height: 1; border-radius: 0.35em; text-transform: uppercase; vertical-align: middle; margin-left: 0.5rem\">ORG</span>\n",
              "</mark>\n",
              " \n",
              "<mark class=\"entity\" style=\"background: #bfeeb7; padding: 0.45em 0.6em; margin: 0 0.25em; line-height: 1; border-radius: 0.35em;\">\n",
              "    excel\n",
              "    <span style=\"font-size: 0.8em; font-weight: bold; line-height: 1; border-radius: 0.35em; text-transform: uppercase; vertical-align: middle; margin-left: 0.5rem\">PRODUCT</span>\n",
              "</mark>\n",
              " compare screen-and-treat approach treatment-as-usual hypothetical cohort individual pathway assume consist adult directly expose terrorism time clinical pathway screen-and-treat intervention group base simplify version mental health response implement follow \n",
              "<mark class=\"entity\" style=\"background: #feca74; padding: 0.45em 0.6em; margin: 0 0.25em; line-height: 1; border-radius: 0.35em;\">\n",
              "    london\n",
              "    <span style=\"font-size: 0.8em; font-weight: bold; line-height: 1; border-radius: 0.35em; text-transform: uppercase; vertical-align: middle; margin-left: 0.5rem\">GPE</span>\n",
              "</mark>\n",
              " bombing intervention pathway assume individual screen trauma screen questionnaire tsq month brewin \n",
              "<mark class=\"entity\" style=\"background: #7aecec; padding: 0.45em 0.6em; margin: 0 0.25em; line-height: 1; border-radius: 0.35em;\">\n",
              "    al. intervention pathway\n",
              "    <span style=\"font-size: 0.8em; font-weight: bold; line-height: 1; border-radius: 0.35em; text-transform: uppercase; vertical-align: middle; margin-left: 0.5rem\">ORG</span>\n",
              "</mark>\n",
              " show figure necessary incorporate markov cycle model participant unlikely state initial period absorbent death state occur equal rate group figure screen-and-treat clinical pathway participant screen positive clinical assessment form structure clinical interview dsm-5 scid-5 \n",
              "<mark class=\"entity\" style=\"background: #aa9cfc; padding: 0.45em 0.6em; margin: 0 0.25em; line-height: 1; border-radius: 0.35em;\">\n",
              "    williams\n",
              "    <span style=\"font-size: 0.8em; font-weight: bold; line-height: 1; border-radius: 0.35em; text-transform: uppercase; vertical-align: middle; margin-left: 0.5rem\">PERSON</span>\n",
              "</mark>\n",
              " karg spitzer commonly employ measure assume accurate true positive \n",
              "<mark class=\"entity\" style=\"background: #aa9cfc; padding: 0.45em 0.6em; margin: 0 0.25em; line-height: 1; border-radius: 0.35em;\">\n",
              "    refer cbt\n",
              "    <span style=\"font-size: 0.8em; font-weight: bold; line-height: 1; border-radius: 0.35em; text-transform: uppercase; vertical-align: middle; margin-left: 0.5rem\">PERSON</span>\n",
              "</mark>\n",
              " improve access psychological therapy iapt service receive average individual weekly \n",
              "<mark class=\"entity\" style=\"background: #ffeb80; padding: 0.45em 0.6em; margin: 0 0.25em; line-height: 1; border-radius: 0.35em;\">\n",
              "    session month\n",
              "    <span style=\"font-size: 0.8em; font-weight: bold; line-height: 1; border-radius: 0.35em; text-transform: uppercase; vertical-align: middle; margin-left: 0.5rem\">EVENT</span>\n",
              "</mark>\n",
              " rate uptake completion cbt model separately false positive screen ptsd subsequently \n",
              "<mark class=\"entity\" style=\"background: #bfe1d9; padding: 0.45em 0.6em; margin: 0 0.25em; line-height: 1; border-radius: 0.35em;\">\n",
              "    month\n",
              "    <span style=\"font-size: 0.8em; font-weight: bold; line-height: 1; border-radius: 0.35em; text-transform: uppercase; vertical-align: middle; margin-left: 0.5rem\">DATE</span>\n",
              "</mark>\n",
              " participant intervention pathway refer treatment screen tsq attempt capture false negative round screen participant develope delayed-onset ptsd process assessment scid-5 referral treatment cbt offer treatment-as-usual comparator group receive treatment individual detect have ptsd conventional primary care route participant comparator pathway ptsd detect primary right reserve reuse allow permission certify peer review author/funder grant medrxiv license display preprint perpetuity holder preprint version post june https://doi.org/10.1101 /2020 care refer iapt service treatment end clinical pathway proportion participant intervention comparator group ptsd partial ptsd ptsd calculate partial ptsd health state intend reflect individual experience sub-clinical symptom cost outcome conditional individual health state simulate \n",
              "<mark class=\"entity\" style=\"background: #bfe1d9; padding: 0.45em 0.6em; margin: 0 0.25em; line-height: 1; border-radius: 0.35em;\">\n",
              "    five-year\n",
              "    <span style=\"font-size: 0.8em; font-weight: bold; line-height: 1; border-radius: 0.35em; text-transform: uppercase; vertical-align: middle; margin-left: 0.5rem\">DATE</span>\n",
              "</mark>\n",
              " time horizon national health service nhs personal social service pss perspective capture long-term wide consequence ptsd perspective adopt nice appraisal \n",
              "<mark class=\"entity\" style=\"background: #bfe1d9; padding: 0.45em 0.6em; margin: 0 0.25em; line-height: 1; border-radius: 0.35em;\">\n",
              "    year\n",
              "    <span style=\"font-size: 0.8em; font-weight: bold; line-height: 1; border-radius: 0.35em; text-transform: uppercase; vertical-align: middle; margin-left: 0.5rem\">DATE</span>\n",
              "</mark>\n",
              " plausible time frame expect persistence effect brewin \n",
              "<mark class=\"entity\" style=\"background: #bfe1d9; padding: 0.45em 0.6em; margin: 0 0.25em; line-height: 1; border-radius: 0.35em;\">\n",
              "    al. 2010a\n",
              "    <span style=\"font-size: 0.8em; font-weight: bold; line-height: 1; border-radius: 0.35em; text-transform: uppercase; vertical-align: middle; margin-left: 0.5rem\">DATE</span>\n",
              "</mark>\n",
              " cost inflate \n",
              "<mark class=\"entity\" style=\"background: #bfe1d9; padding: 0.45em 0.6em; margin: 0 0.25em; line-height: 1; border-radius: 0.35em;\">\n",
              "    annually\n",
              "    <span style=\"font-size: 0.8em; font-weight: bold; line-height: 1; border-radius: 0.35em; text-transform: uppercase; vertical-align: middle; margin-left: 0.5rem\">DATE</span>\n",
              "</mark>\n",
              " price \n",
              "<mark class=\"entity\" style=\"background: #c887fb; padding: 0.45em 0.6em; margin: 0 0.25em; line-height: 1; border-radius: 0.35em;\">\n",
              "    british\n",
              "    <span style=\"font-size: 0.8em; font-weight: bold; line-height: 1; border-radius: 0.35em; text-transform: uppercase; vertical-align: middle; margin-left: 0.5rem\">NORP</span>\n",
              "</mark>\n",
              " pound gbp cost outcome discount \n",
              "<mark class=\"entity\" style=\"background: #bfe1d9; padding: 0.45em 0.6em; margin: 0 0.25em; line-height: 1; border-radius: 0.35em;\">\n",
              "    five-year\n",
              "    <span style=\"font-size: 0.8em; font-weight: bold; line-height: 1; border-radius: 0.35em; text-transform: uppercase; vertical-align: middle; margin-left: 0.5rem\">DATE</span>\n",
              "</mark>\n",
              " time horizon annum discount rate choose reflect central government guidance appraisal evaluation hm treasury conservatively assume ptsd mental health impact comorbidity mental health condition model simplification lack datum contrary event ptsd represent overwhelm majority mental health need follow terrorism successful treatment ptsd lead remission comorbid condition \n",
              "<mark class=\"entity\" style=\"background: #aa9cfc; padding: 0.45em 0.6em; margin: 0 0.25em; line-height: 1; border-radius: 0.35em;\">\n",
              "    whalley brewin brewin al.\n",
              "    <span style=\"font-size: 0.8em; font-weight: bold; line-height: 1; border-radius: 0.35em; text-transform: uppercase; vertical-align: middle; margin-left: 0.5rem\">PERSON</span>\n",
              "</mark>\n",
              " neria al. model simplify ignore risk relapse gain \n",
              "<mark class=\"entity\" style=\"background: #aa9cfc; padding: 0.45em 0.6em; margin: 0 0.25em; line-height: 1; border-radius: 0.35em;\">\n",
              "    cbt\n",
              "    <span style=\"font-size: 0.8em; font-weight: bold; line-height: 1; border-radius: 0.35em; text-transform: uppercase; vertical-align: middle; margin-left: 0.5rem\">PERSON</span>\n",
              "</mark>\n",
              " tend maintain follow single trauma brewin al. 2010a santiago al. incremental cost quality-adjusted-life-year \n",
              "<mark class=\"entity\" style=\"background: #aa9cfc; padding: 0.45em 0.6em; margin: 0 0.25em; line-height: 1; border-radius: 0.35em;\">\n",
              "    qaly\n",
              "    <span style=\"font-size: 0.8em; font-weight: bold; line-height: 1; border-radius: 0.35em; text-transform: uppercase; vertical-align: middle; margin-left: 0.5rem\">PERSON</span>\n",
              "</mark>\n",
              " calculate reference case measure nice assess case invest health care intervention enable comparison investment choice different health care public health programme model input show possible relevant local parameter estimate prevalence ptsd adult assume base proportion survivor require treatment ptsd follow \n",
              "<mark class=\"entity\" style=\"background: #feca74; padding: 0.45em 0.6em; margin: 0 0.25em; line-height: 1; border-radius: 0.35em;\">\n",
              "    london\n",
              "    <span style=\"font-size: 0.8em; font-weight: bold; line-height: 1; border-radius: 0.35em; text-transform: uppercase; vertical-align: middle; margin-left: 0.5rem\">GPE</span>\n",
              "</mark>\n",
              " bombing brewin \n",
              "<mark class=\"entity\" style=\"background: #bfe1d9; padding: 0.45em 0.6em; margin: 0 0.25em; line-height: 1; border-radius: 0.35em;\">\n",
              "    al. 2010a\n",
              "    <span style=\"font-size: 0.8em; font-weight: bold; line-height: 1; border-radius: 0.35em; text-transform: uppercase; vertical-align: middle; margin-left: 0.5rem\">DATE</span>\n",
              "</mark>\n",
              " consistent international systematic review find mean prevalence \n",
              "<mark class=\"entity\" style=\"background: #7aecec; padding: 0.45em 0.6em; margin: 0 0.25em; line-height: 1; border-radius: 0.35em;\">\n",
              "    29·8\n",
              "    <span style=\"font-size: 0.8em; font-weight: bold; line-height: 1; border-radius: 0.35em; text-transform: uppercase; vertical-align: middle; margin-left: 0.5rem\">ORG</span>\n",
              "</mark>\n",
              " adult victim right reserve reuse allow permission certify peer review author/funder grant medrxiv license display preprint perpetuity holder preprint version post june https://doi.org/10.1101 /2020.06.26.20141051 medrxiv preprint terrorism garcia-vera sanz gutierrez furthermore assume participant onset ptsd immediate occur month remain delay onset month consistent evidence prevalence delayed-onset ptsd andrews brewin philpott stewart study analyse datum \n",
              "<mark class=\"entity\" style=\"background: #feca74; padding: 0.45em 0.6em; margin: 0 0.25em; line-height: 1; border-radius: 0.35em;\">\n",
              "    london\n",
              "    <span style=\"font-size: 0.8em; font-weight: bold; line-height: 1; border-radius: 0.35em; text-transform: uppercase; vertical-align: middle; margin-left: 0.5rem\">GPE</span>\n",
              "</mark>\n",
              " bombing estimate specificity sensitivity tsq \n",
              "<mark class=\"entity\" style=\"background: #e4e7d2; padding: 0.45em 0.6em; margin: 0 0.25em; line-height: 1; border-radius: 0.35em;\">\n",
              "    3-months\n",
              "    <span style=\"font-size: 0.8em; font-weight: bold; line-height: 1; border-radius: 0.35em; text-transform: uppercase; vertical-align: middle; margin-left: 0.5rem\">ORDINAL</span>\n",
              "</mark>\n",
              " 9-months brewin fuchkan \n",
              "<mark class=\"entity\" style=\"background: #e4e7d2; padding: 0.45em 0.6em; margin: 0 0.25em; line-height: 1; border-radius: 0.35em;\">\n",
              "    huntley 2010b\n",
              "    <span style=\"font-size: 0.8em; font-weight: bold; line-height: 1; border-radius: 0.35em; text-transform: uppercase; vertical-align: middle; margin-left: 0.5rem\">ORDINAL</span>\n",
              "</mark>\n",
              " probability \n",
              "<mark class=\"entity\" style=\"background: #bfeeb7; padding: 0.45em 0.6em; margin: 0 0.25em; line-height: 1; border-radius: 0.35em;\">\n",
              "    uptake cbt completion cbt\n",
              "    <span style=\"font-size: 0.8em; font-weight: bold; line-height: 1; border-radius: 0.35em; text-transform: uppercase; vertical-align: middle; margin-left: 0.5rem\">PRODUCT</span>\n",
              "</mark>\n",
              " recovery partial recovery cbt brewin al. 2010a probability detection ptsd primary care approximate base study ptsd detection rate conventional primary care setting \n",
              "<mark class=\"entity\" style=\"background: #feca74; padding: 0.45em 0.6em; margin: 0 0.25em; line-height: 1; border-radius: 0.35em;\">\n",
              "    england\n",
              "    <span style=\"font-size: 0.8em; font-weight: bold; line-height: 1; border-radius: 0.35em; text-transform: uppercase; vertical-align: middle; margin-left: 0.5rem\">GPE</span>\n",
              "</mark>\n",
              " ehlers gene-cos perrin support repeat report lack referral survivor terrorist attack family doctor brewin al. 2010a \n",
              "<mark class=\"entity\" style=\"background: #aa9cfc; padding: 0.45em 0.6em; margin: 0 0.25em; line-height: 1; border-radius: 0.35em;\">\n",
              "    cylharova al\n",
              "    <span style=\"font-size: 0.8em; font-weight: bold; line-height: 1; border-radius: 0.35em; text-transform: uppercase; vertical-align: middle; margin-left: 0.5rem\">PERSON</span>\n",
              "</mark>\n",
              ". probability spontaneous remission base finding recent systematic review \n",
              "<mark class=\"entity\" style=\"background: #ddd; padding: 0.45em 0.6em; margin: 0 0.25em; line-height: 1; border-radius: 0.35em;\">\n",
              "    34·8\n",
              "    <span style=\"font-size: 0.8em; font-weight: bold; line-height: 1; border-radius: 0.35em; text-transform: uppercase; vertical-align: middle; margin-left: 0.5rem\">FAC</span>\n",
              "</mark>\n",
              " ptsd follow exposure intentional trauma remit month santiago al. figure lower discretion author key reason individual judge likely well engage programme engage chronic course remission base long meet diagnostic criterium ptsd practice people significant residual symptom benefit treatment example clinical level depression phobic condition remission literature measure point time people fluctuate meet meet diagnostic criterium follow long example onset trigger inquest court case cost person screen assessment average calculate datum \n",
              "<mark class=\"entity\" style=\"background: #feca74; padding: 0.45em 0.6em; margin: 0 0.25em; line-height: 1; border-radius: 0.35em;\">\n",
              "    london\n",
              "    <span style=\"font-size: 0.8em; font-weight: bold; line-height: 1; border-radius: 0.35em; text-transform: uppercase; vertical-align: middle; margin-left: 0.5rem\">GPE</span>\n",
              "</mark>\n",
              " bombing inflate price fuchkan cost include start-up management programme find screen assess participant referral management cost treatment iapt calculate unit cost health social right reserve reuse allow permission certify peer review author/funder grant medrxiv license display preprint perpetuity holder preprint version post june https://doi.org/10.1101 /2020 care price multiply average numb \n",
              "<mark class=\"entity\" style=\"background: #bfe1d9; padding: 0.45em 0.6em; margin: 0 0.25em; line-height: 1; border-radius: 0.35em;\">\n",
              "    hour\n",
              "    <span style=\"font-size: 0.8em; font-weight: bold; line-height: 1; border-radius: 0.35em; text-transform: uppercase; vertical-align: middle; margin-left: 0.5rem\">TIME</span>\n",
              "</mark>\n",
              " session curtis burn cost medication health personal social service approximation base recent expert panel review convene england review economic evidence ptsd nice \n",
              "<mark class=\"entity\" style=\"background: #bfe1d9; padding: 0.45em 0.6em; margin: 0 0.25em; line-height: 1; border-radius: 0.35em;\">\n",
              "    2018b\n",
              "    <span style=\"font-size: 0.8em; font-weight: bold; line-height: 1; border-radius: 0.35em; text-transform: uppercase; vertical-align: middle; margin-left: 0.5rem\">DATE</span>\n",
              "</mark>\n",
              " \n",
              "<mark class=\"entity\" style=\"background: #bfe1d9; padding: 0.45em 0.6em; margin: 0 0.25em; line-height: 1; border-radius: 0.35em;\">\n",
              "    annual\n",
              "    <span style=\"font-size: 0.8em; font-weight: bold; line-height: 1; border-radius: 0.35em; text-transform: uppercase; vertical-align: middle; margin-left: 0.5rem\">DATE</span>\n",
              "</mark>\n",
              " cost ptsd ptsd health state approximate panel person respectively price forecast cost include medication inpatient hospital stay outpatient visit general practitioner district nurse outreach home help psychological treatment cost partial ptsd health state assume mid-way have ptsd have ptsd capture associate cost sub-clinical symptom analysis conservative productivity loss arise disrupt education employment exclude give nhs pss perspective take qalys measurement health gain preference-weight equate perfect health death negative value wrong death permit unable identify uk utility value study population instead ptsd ptsd utility \n",
              "<mark class=\"entity\" style=\"background: #e4e7d2; padding: 0.45em 0.6em; margin: 0 0.25em; line-height: 1; border-radius: 0.35em;\">\n",
              "    0·610\n",
              "    <span style=\"font-size: 0.8em; font-weight: bold; line-height: 1; border-radius: 0.35em; text-transform: uppercase; vertical-align: middle; margin-left: 0.5rem\">CARDINAL</span>\n",
              "</mark>\n",
              " 0·850 respectively base \n",
              "<mark class=\"entity\" style=\"background: #c887fb; padding: 0.45em 0.6em; margin: 0 0.25em; line-height: 1; border-radius: 0.35em;\">\n",
              "    australian\n",
              "    <span style=\"font-size: 0.8em; font-weight: bold; line-height: 1; border-radius: 0.35em; text-transform: uppercase; vertical-align: middle; margin-left: 0.5rem\">NORP</span>\n",
              "</mark>\n",
              " study context sexual abuse \n",
              "<mark class=\"entity\" style=\"background: #aa9cfc; padding: 0.45em 0.6em; margin: 0 0.25em; line-height: 1; border-radius: 0.35em;\">\n",
              "    gospodarevskaya segal\n",
              "    <span style=\"font-size: 0.8em; font-weight: bold; line-height: 1; border-radius: 0.35em; text-transform: uppercase; vertical-align: middle; margin-left: 0.5rem\">PERSON</span>\n",
              "</mark>\n",
              " utility value sub-clinical ptsd result partial recovery cbt approximate mid-point have ptsd have ptsd \n",
              "<mark class=\"entity\" style=\"background: #e4e7d2; padding: 0.45em 0.6em; margin: 0 0.25em; line-height: 1; border-radius: 0.35em;\">\n",
              "    one\n",
              "    <span style=\"font-size: 0.8em; font-weight: bold; line-height: 1; border-radius: 0.35em; text-transform: uppercase; vertical-align: middle; margin-left: 0.5rem\">CARDINAL</span>\n",
              "</mark>\n",
              "-way sensitivity analysis conduct test robustness result standard error vary input variable time confidence interval assume normal distribution standard error approximate 0·01 probability reflect minimal uncertainty 0·05 outcome reflect reasonable upper low value overlap health state deterministic input cost reflect potential considerable variation probabilistic sensitivity analysis iteration conduct vary input variable simultaneously gamma distribution assume cost datum skew constrain positive infinity right reserve reuse allow permission certify peer review author/funder grant medrxiv license display preprint perpetuity holder preprint version post june https://doi.org/10.1101/2020.06.26.20141051 medrxiv preprint beta distribution assume probability outcome datum binomial constrain right reserve reuse allow permission certify peer review author/funder grant medrxiv license display preprint perpetuity holder preprint version post june https://doi.org/10.1101 /2020 incremental cost-effectiveness ratio icer define conventional way total cost effect individual average cost effect person show accrue \n",
              "<mark class=\"entity\" style=\"background: #bfe1d9; padding: 0.45em 0.6em; margin: 0 0.25em; line-height: 1; border-radius: 0.35em;\">\n",
              "    five-year\n",
              "    <span style=\"font-size: 0.8em; font-weight: bold; line-height: 1; border-radius: 0.35em; text-transform: uppercase; vertical-align: middle; margin-left: 0.5rem\">DATE</span>\n",
              "</mark>\n",
              " time horizon \n",
              "<mark class=\"entity\" style=\"background: #7aecec; padding: 0.45em 0.6em; margin: 0 0.25em; line-height: 1; border-radius: 0.35em;\">\n",
              "    icer express\n",
              "    <span style=\"font-size: 0.8em; font-weight: bold; line-height: 1; border-radius: 0.35em; text-transform: uppercase; vertical-align: middle; margin-left: 0.5rem\">ORG</span>\n",
              "</mark>\n",
              " incremental cost \n",
              "<mark class=\"entity\" style=\"background: #feca74; padding: 0.45em 0.6em; margin: 0 0.25em; line-height: 1; border-radius: 0.35em;\">\n",
              "    qaly\n",
              "    <span style=\"font-size: 0.8em; font-weight: bold; line-height: 1; border-radius: 0.35em; text-transform: uppercase; vertical-align: middle; margin-left: 0.5rem\">GPE</span>\n",
              "</mark>\n",
              " gain compare comparator nice \n",
              "<mark class=\"entity\" style=\"background: #feca74; padding: 0.45em 0.6em; margin: 0 0.25em; line-height: 1; border-radius: 0.35em;\">\n",
              "    england\n",
              "    <span style=\"font-size: 0.8em; font-weight: bold; line-height: 1; border-radius: 0.35em; text-transform: uppercase; vertical-align: middle; margin-left: 0.5rem\">GPE</span>\n",
              "</mark>\n",
              " employ guideline compare icer value willingness-to-pay threshold \n",
              "<mark class=\"entity\" style=\"background: #feca74; padding: 0.45em 0.6em; margin: 0 0.25em; line-height: 1; border-radius: 0.35em;\">\n",
              "    qaly\n",
              "    <span style=\"font-size: 0.8em; font-weight: bold; line-height: 1; border-radius: 0.35em; text-transform: uppercase; vertical-align: middle; margin-left: 0.5rem\">GPE</span>\n",
              "</mark>\n",
              " give icer threshold screen-and-treat approach consider cost-effective option base model input sensitivity incremental cost-effectiveness ratio increase decrease model input variable show tornado diagram figure short key driver icer utility ptsd ptsd health state \n",
              "<mark class=\"entity\" style=\"background: #bfeeb7; padding: 0.45em 0.6em; margin: 0 0.25em; line-height: 1; border-radius: 0.35em;\">\n",
              "    u_ptsd u_noptsd\n",
              "    <span style=\"font-size: 0.8em; font-weight: bold; line-height: 1; border-radius: 0.35em; text-transform: uppercase; vertical-align: middle; margin-left: 0.5rem\">PRODUCT</span>\n",
              "</mark>\n",
              " cost associate have ptsd \n",
              "<mark class=\"entity\" style=\"background: #7aecec; padding: 0.45em 0.6em; margin: 0 0.25em; line-height: 1; border-radius: 0.35em;\">\n",
              "    c_ptsd\n",
              "    <span style=\"font-size: 0.8em; font-weight: bold; line-height: 1; border-radius: 0.35em; text-transform: uppercase; vertical-align: middle; margin-left: 0.5rem\">ORG</span>\n",
              "</mark>\n",
              " figure tornado diagram right reserve reuse allow permission certify peer review author/funder grant medrxiv license display preprint perpetuity holder preprint version post \n",
              "<mark class=\"entity\" style=\"background: #bfe1d9; padding: 0.45em 0.6em; margin: 0 0.25em; line-height: 1; border-radius: 0.35em;\">\n",
              "    june\n",
              "    <span style=\"font-size: 0.8em; font-weight: bold; line-height: 1; border-radius: 0.35em; text-transform: uppercase; vertical-align: middle; margin-left: 0.5rem\">DATE</span>\n",
              "</mark>\n",
              " https://doi.org/10.1101 /2020 incremental cost benefit have run model iteration present cost-effectiveness acceptability curve figure curve represent proportion iteration consider costeffective willingness-to-pay threshold screen-and-treat approach find chance consider cost-effective give willingness-to-pay threshold \n",
              "<mark class=\"entity\" style=\"background: #7aecec; padding: 0.45em 0.6em; margin: 0 0.25em; line-height: 1; border-radius: 0.35em;\">\n",
              "    qaly probabilistic sensitivity analysis\n",
              "    <span style=\"font-size: 0.8em; font-weight: bold; line-height: 1; border-radius: 0.35em; text-transform: uppercase; vertical-align: middle; margin-left: 0.5rem\">ORG</span>\n",
              "</mark>\n",
              " calculate confidence interval figure cost-effectiveness acceptability curve primary aim present study calculate incremental costeffectiveness ratio screen-and-treat approach identify treat ptsd adult follow major incident compare standard care offer important system learn emergency response planner comparator group represent likely happen counterfactual screen-and-treat approach implement result incremental cost-effectiveness ratio \n",
              "<mark class=\"entity\" style=\"background: #aa9cfc; padding: 0.45em 0.6em; margin: 0 0.25em; line-height: 1; border-radius: 0.35em;\">\n",
              "    qaly\n",
              "    <span style=\"font-size: 0.8em; font-weight: bold; line-height: 1; border-radius: 0.35em; text-transform: uppercase; vertical-align: middle; margin-left: 0.5rem\">PERSON</span>\n",
              "</mark>\n",
              " gain willingness-to-pay threshold \n",
              "<mark class=\"entity\" style=\"background: #7aecec; padding: 0.45em 0.6em; margin: 0 0.25em; line-height: 1; border-radius: 0.35em;\">\n",
              "    qaly employ nice\n",
              "    <span style=\"font-size: 0.8em; font-weight: bold; line-height: 1; border-radius: 0.35em; text-transform: uppercase; vertical-align: middle; margin-left: 0.5rem\">ORG</span>\n",
              "</mark>\n",
              " decision-making context see represent value money cost treatment-as-usual screen-and-treat approach deliver well population health outcome consider large justify high cost find warrant utilisation approach ultimately determine local decisionmakers directly comparable different target population cbt \n",
              "<mark class=\"entity\" style=\"background: #feca74; padding: 0.45em 0.6em; margin: 0 0.25em; line-height: 1; border-radius: 0.35em;\">\n",
              "    uk\n",
              "    <span style=\"font-size: 0.8em; font-weight: bold; line-height: 1; border-radius: 0.35em; text-transform: uppercase; vertical-align: middle; margin-left: 0.5rem\">GPE</span>\n",
              "</mark>\n",
              " middle-aged adult treat ptsd cause major incident find cost-effective net monetary benefit person \n",
              "<mark class=\"entity\" style=\"background: #bfe1d9; padding: 0.45em 0.6em; margin: 0 0.25em; line-height: 1; border-radius: 0.35em;\">\n",
              "    year\n",
              "    <span style=\"font-size: 0.8em; font-weight: bold; line-height: 1; border-radius: 0.35em; text-transform: uppercase; vertical-align: middle; margin-left: 0.5rem\">DATE</span>\n",
              "</mark>\n",
              " mavranezouli al. present study strength limitation primary strength economic model design broadly mirror clinical practice particular right reserve reuse allow permission certify peer review author/funder grant medrxiv license display preprint perpetuity holder preprint version post june https://doi.org/10.1101 /2020 include multiple round screen clinical assessment change sensitivity specificity screen tool time model incorporate heterogeneity ptsd onset immediate versus delay recovery follow \n",
              "<mark class=\"entity\" style=\"background: #7aecec; padding: 0.45em 0.6em; margin: 0 0.25em; line-height: 1; border-radius: 0.35em;\">\n",
              "    cbt versus partial study demonstrate robustness\n",
              "    <span style=\"font-size: 0.8em; font-weight: bold; line-height: 1; border-radius: 0.35em; text-transform: uppercase; vertical-align: middle; margin-left: 0.5rem\">ORG</span>\n",
              "</mark>\n",
              " result address uncertainty deterministic probabilistic sensitivity analysis methodological strength study take strict nice perspective optimise relevance paper \n",
              "<mark class=\"entity\" style=\"background: #feca74; padding: 0.45em 0.6em; margin: 0 0.25em; line-height: 1; border-radius: 0.35em;\">\n",
              "    uk\n",
              "    <span style=\"font-size: 0.8em; font-weight: bold; line-height: 1; border-radius: 0.35em; text-transform: uppercase; vertical-align: middle; margin-left: 0.5rem\">GPE</span>\n",
              "</mark>\n",
              " policymaker limit economic analysis health social care perspective mean estimate cost-effectiveness conservative clear literature economic cost associate mental health need include ptsd health personal social service example indirect cost arise disrupt employment \n",
              "<mark class=\"entity\" style=\"background: #aa9cfc; padding: 0.45em 0.6em; margin: 0 0.25em; line-height: 1; border-radius: 0.35em;\">\n",
              "    vandentorren al.\n",
              "    <span style=\"font-size: 0.8em; font-weight: bold; line-height: 1; border-radius: 0.35em; text-transform: uppercase; vertical-align: middle; margin-left: 0.5rem\">PERSON</span>\n",
              "</mark>\n",
              " \n",
              "<mark class=\"entity\" style=\"background: #7aecec; padding: 0.45em 0.6em; margin: 0 0.25em; line-height: 1; border-radius: 0.35em;\">\n",
              "    impair\n",
              "    <span style=\"font-size: 0.8em; font-weight: bold; line-height: 1; border-radius: 0.35em; text-transform: uppercase; vertical-align: middle; margin-left: 0.5rem\">ORG</span>\n",
              "</mark>\n",
              " education \n",
              "<mark class=\"entity\" style=\"background: #aa9cfc; padding: 0.45em 0.6em; margin: 0 0.25em; line-height: 1; border-radius: 0.35em;\">\n",
              "    stene dyb\n",
              "    <span style=\"font-size: 0.8em; font-weight: bold; line-height: 1; border-radius: 0.35em; text-transform: uppercase; vertical-align: middle; margin-left: 0.5rem\">PERSON</span>\n",
              "</mark>\n",
              " substantial individual involve major incident empirical analysis \n",
              "<mark class=\"entity\" style=\"background: #aa9cfc; padding: 0.45em 0.6em; margin: 0 0.25em; line-height: 1; border-radius: 0.35em;\">\n",
              "    burden ptsd\n",
              "    <span style=\"font-size: 0.8em; font-weight: bold; line-height: 1; border-radius: 0.35em; text-transform: uppercase; vertical-align: middle; margin-left: 0.5rem\">PERSON</span>\n",
              "</mark>\n",
              " follow \n",
              "<mark class=\"entity\" style=\"background: #feca74; padding: 0.45em 0.6em; margin: 0 0.25em; line-height: 1; border-radius: 0.35em;\">\n",
              "    london\n",
              "    <span style=\"font-size: 0.8em; font-weight: bold; line-height: 1; border-radius: 0.35em; text-transform: uppercase; vertical-align: middle; margin-left: 0.5rem\">GPE</span>\n",
              "</mark>\n",
              " bombing find indirect cost productivity loss account majority report cost fuchkan accordingly exclusion indirect cost present study lead underestimation cost-effectiveness screen-and-treat approach limitation require research absence \n",
              "<mark class=\"entity\" style=\"background: #7aecec; padding: 0.45em 0.6em; margin: 0 0.25em; line-height: 1; border-radius: 0.35em;\">\n",
              "    uk\n",
              "    <span style=\"font-size: 0.8em; font-weight: bold; line-height: 1; border-radius: 0.35em; text-transform: uppercase; vertical-align: middle; margin-left: 0.5rem\">ORG</span>\n",
              "</mark>\n",
              " datum ptsd population general let context major incident utility value adult base \n",
              "<mark class=\"entity\" style=\"background: #c887fb; padding: 0.45em 0.6em; margin: 0 0.25em; line-height: 1; border-radius: 0.35em;\">\n",
              "    australian\n",
              "    <span style=\"font-size: 0.8em; font-weight: bold; line-height: 1; border-radius: 0.35em; text-transform: uppercase; vertical-align: middle; margin-left: 0.5rem\">NORP</span>\n",
              "</mark>\n",
              " study victim non-terror relate trauma \n",
              "<mark class=\"entity\" style=\"background: #7aecec; padding: 0.45em 0.6em; margin: 0 0.25em; line-height: 1; border-radius: 0.35em;\">\n",
              "    gospodarevskaya segal generalisable\n",
              "    <span style=\"font-size: 0.8em; font-weight: bold; line-height: 1; border-radius: 0.35em; text-transform: uppercase; vertical-align: middle; margin-left: 0.5rem\">ORG</span>\n",
              "</mark>\n",
              " terrorism major incident-exposed \n",
              "<mark class=\"entity\" style=\"background: #7aecec; padding: 0.45em 0.6em; margin: 0 0.25em; line-height: 1; border-radius: 0.35em;\">\n",
              "    adult england\n",
              "    <span style=\"font-size: 0.8em; font-weight: bold; line-height: 1; border-radius: 0.35em; text-transform: uppercase; vertical-align: middle; margin-left: 0.5rem\">ORG</span>\n",
              "</mark>\n",
              " 0·61 conservative approximation ptsd utility adult compare economic analysis potentially reduce capacity \n",
              "<mark class=\"entity\" style=\"background: #feca74; padding: 0.45em 0.6em; margin: 0 0.25em; line-height: 1; border-radius: 0.35em;\">\n",
              "    qaly\n",
              "    <span style=\"font-size: 0.8em; font-weight: bold; line-height: 1; border-radius: 0.35em; text-transform: uppercase; vertical-align: middle; margin-left: 0.5rem\">GPE</span>\n",
              "</mark>\n",
              " gain \n",
              "<mark class=\"entity\" style=\"background: #c887fb; padding: 0.45em 0.6em; margin: 0 0.25em; line-height: 1; border-radius: 0.35em;\">\n",
              "    australian\n",
              "    <span style=\"font-size: 0.8em; font-weight: bold; line-height: 1; border-radius: 0.35em; text-transform: uppercase; vertical-align: middle; margin-left: 0.5rem\">NORP</span>\n",
              "</mark>\n",
              " study report utility value low 0·54 adult experience \n",
              "<mark class=\"entity\" style=\"background: #aa9cfc; padding: 0.45em 0.6em; margin: 0 0.25em; line-height: 1; border-radius: 0.35em;\">\n",
              "    ptsd mihalopoulos al\n",
              "    <span style=\"font-size: 0.8em; font-weight: bold; line-height: 1; border-radius: 0.35em; text-transform: uppercase; vertical-align: middle; margin-left: 0.5rem\">PERSON</span>\n",
              "</mark>\n",
              ". low utility value \n",
              "<mark class=\"entity\" style=\"background: #feca74; padding: 0.45em 0.6em; margin: 0 0.25em; line-height: 1; border-radius: 0.35em;\">\n",
              "    uk\n",
              "    <span style=\"font-size: 0.8em; font-weight: bold; line-height: 1; border-radius: 0.35em; text-transform: uppercase; vertical-align: middle; margin-left: 0.5rem\">GPE</span>\n",
              "</mark>\n",
              " economic model study psychological intervention general adult population ptsd \n",
              "<mark class=\"entity\" style=\"background: #aa9cfc; padding: 0.45em 0.6em; margin: 0 0.25em; line-height: 1; border-radius: 0.35em;\">\n",
              "    mavranezouli al\n",
              "    <span style=\"font-size: 0.8em; font-weight: bold; line-height: 1; border-radius: 0.35em; text-transform: uppercase; vertical-align: middle; margin-left: 0.5rem\">PERSON</span>\n",
              "</mark>\n",
              ". economic evaluation treatment military personnel \n",
              "<mark class=\"entity\" style=\"background: #7aecec; padding: 0.45em 0.6em; margin: 0 0.25em; line-height: 1; border-radius: 0.35em;\">\n",
              "    qaly value low mean\n",
              "    <span style=\"font-size: 0.8em; font-weight: bold; line-height: 1; border-radius: 0.35em; text-transform: uppercase; vertical-align: middle; margin-left: 0.5rem\">ORG</span>\n",
              "</mark>\n",
              " baseline utility value \n",
              "<mark class=\"entity\" style=\"background: #aa9cfc; padding: 0.45em 0.6em; margin: 0 0.25em; line-height: 1; border-radius: 0.35em;\">\n",
              "    ptsd lavelle al\n",
              "    <span style=\"font-size: 0.8em; font-weight: bold; line-height: 1; border-radius: 0.35em; text-transform: uppercase; vertical-align: middle; margin-left: 0.5rem\">PERSON</span>\n",
              "</mark>\n",
              ". right reserve reuse allow permission certify peer review author/funder grant medrxiv license display preprint perpetuity holder preprint version post june https://doi.org/10.1101 /2020 assume mental health impact ptsd model include depression anxiety substance misuse limit understand costeffectiveness give burden comorbidity example ptsd comorbid depression approximate utility value 0·53 \n",
              "<mark class=\"entity\" style=\"background: #aa9cfc; padding: 0.45em 0.6em; margin: 0 0.25em; line-height: 1; border-radius: 0.35em;\">\n",
              "    gospodarevskaya segal\n",
              "    <span style=\"font-size: 0.8em; font-weight: bold; line-height: 1; border-radius: 0.35em; text-transform: uppercase; vertical-align: middle; margin-left: 0.5rem\">PERSON</span>\n",
              "</mark>\n",
              " low 0·61 assume model addition model reflect change ptsd prevalence spontaneous remission rate age exposure type adult child \n",
              "<mark class=\"entity\" style=\"background: #e4e7d2; padding: 0.45em 0.6em; margin: 0 0.25em; line-height: 1; border-radius: 0.35em;\">\n",
              "    first\n",
              "    <span style=\"font-size: 0.8em; font-weight: bold; line-height: 1; border-radius: 0.35em; text-transform: uppercase; vertical-align: middle; margin-left: 0.5rem\">ORDINAL</span>\n",
              "</mark>\n",
              "-responders focus screen-and-treat programme adult general population expose major incident likely large sub-population require support context current \n",
              "<mark class=\"entity\" style=\"background: #bfe1d9; padding: 0.45em 0.6em; margin: 0 0.25em; line-height: 1; border-radius: 0.35em;\">\n",
              "    covid-19\n",
              "    <span style=\"font-size: 0.8em; font-weight: bold; line-height: 1; border-radius: 0.35em; text-transform: uppercase; vertical-align: middle; margin-left: 0.5rem\">DATE</span>\n",
              "</mark>\n",
              " pandemic \n",
              "<mark class=\"entity\" style=\"background: #e4e7d2; padding: 0.45em 0.6em; margin: 0 0.25em; line-height: 1; border-radius: 0.35em;\">\n",
              "    first\n",
              "    <span style=\"font-size: 0.8em; font-weight: bold; line-height: 1; border-radius: 0.35em; text-transform: uppercase; vertical-align: middle; margin-left: 0.5rem\">ORDINAL</span>\n",
              "</mark>\n",
              "-responders include health care professional low prevalence ptsd likely decrease cost-effectiveness intervention give cost associate management false positive treat costeffectively occupational health service alternatively follow h1n1 pandemic research \n",
              "<mark class=\"entity\" style=\"background: #feca74; padding: 0.45em 0.6em; margin: 0 0.25em; line-height: 1; border-radius: 0.35em;\">\n",
              "    japan\n",
              "    <span style=\"font-size: 0.8em; font-weight: bold; line-height: 1; border-radius: 0.35em; text-transform: uppercase; vertical-align: middle; margin-left: 0.5rem\">GPE</span>\n",
              "</mark>\n",
              " support role psychiatric liaison service hospital worker \n",
              "<mark class=\"entity\" style=\"background: #aa9cfc; padding: 0.45em 0.6em; margin: 0 0.25em; line-height: 1; border-radius: 0.35em;\">\n",
              "    matsuishi al.\n",
              "    <span style=\"font-size: 0.8em; font-weight: bold; line-height: 1; border-radius: 0.35em; text-transform: uppercase; vertical-align: middle; margin-left: 0.5rem\">PERSON</span>\n",
              "</mark>\n",
              " child impact costeffectiveness intervention high prevalence ptsd offset minimal qaly difference child assume literature ptsd compare ptsd \n",
              "<mark class=\"entity\" style=\"background: #7aecec; padding: 0.45em 0.6em; margin: 0 0.25em; line-height: 1; border-radius: 0.35em;\">\n",
              "    shearer al.\n",
              "    <span style=\"font-size: 0.8em; font-weight: bold; line-height: 1; border-radius: 0.35em; text-transform: uppercase; vertical-align: middle; margin-left: 0.5rem\">ORG</span>\n",
              "</mark>\n",
              " minimal difference utility value provide support future research reduce cost-effectiveness treatment transition child have ptsd have ptsd result potentially generalisable variety emergency include pandemic epidemic exist datum suggest certain group affect covid-19 survivor intensive care rate ptsd approximate typical victim terrorist attack \n",
              "<mark class=\"entity\" style=\"background: #aa9cfc; padding: 0.45em 0.6em; margin: 0 0.25em; line-height: 1; border-radius: 0.35em;\">\n",
              "    davydow al\n",
              "    <span style=\"font-size: 0.8em; font-weight: bold; line-height: 1; border-radius: 0.35em; text-transform: uppercase; vertical-align: middle; margin-left: 0.5rem\">PERSON</span>\n",
              "</mark>\n",
              ". \n",
              "<mark class=\"entity\" style=\"background: #aa9cfc; padding: 0.45em 0.6em; margin: 0 0.25em; line-height: 1; border-radius: 0.35em;\">\n",
              "    mak al.\n",
              "    <span style=\"font-size: 0.8em; font-weight: bold; line-height: 1; border-radius: 0.35em; text-transform: uppercase; vertical-align: middle; margin-left: 0.5rem\">PERSON</span>\n",
              "</mark>\n",
              " myhren al. rate ptsd frontline hospital staff report high previous epidemic maunder al. anticipate substantial follow \n",
              "<mark class=\"entity\" style=\"background: #bfe1d9; padding: 0.45em 0.6em; margin: 0 0.25em; line-height: 1; border-radius: 0.35em;\">\n",
              "    covid-19\n",
              "    <span style=\"font-size: 0.8em; font-weight: bold; line-height: 1; border-radius: 0.35em; text-transform: uppercase; vertical-align: middle; margin-left: 0.5rem\">DATE</span>\n",
              "</mark>\n",
              " especially care home staff experience multiple fatality pervasive sense guilt link perceive role viral spread furthermore quarantine measure control pandemic associate high rate ptsd depression right reserve reuse allow permission certify peer review author/funder grant medrxiv license display preprint perpetuity holder preprint version post june https://doi.org/10.1101 /2020 example observe \n",
              "<mark class=\"entity\" style=\"background: #c887fb; padding: 0.45em 0.6em; margin: 0 0.25em; line-height: 1; border-radius: 0.35em;\">\n",
              "    canadian\n",
              "    <span style=\"font-size: 0.8em; font-weight: bold; line-height: 1; border-radius: 0.35em; text-transform: uppercase; vertical-align: middle; margin-left: 0.5rem\">NORP</span>\n",
              "</mark>\n",
              " population quarantine sars \n",
              "<mark class=\"entity\" style=\"background: #aa9cfc; padding: 0.45em 0.6em; margin: 0 0.25em; line-height: 1; border-radius: 0.35em;\">\n",
              "    hawryluck al\n",
              "    <span style=\"font-size: 0.8em; font-weight: bold; line-height: 1; border-radius: 0.35em; text-transform: uppercase; vertical-align: middle; margin-left: 0.5rem\">PERSON</span>\n",
              "</mark>\n",
              ". likely \n",
              "<mark class=\"entity\" style=\"background: #bfe1d9; padding: 0.45em 0.6em; margin: 0 0.25em; line-height: 1; border-radius: 0.35em;\">\n",
              "    covid-19\n",
              "    <span style=\"font-size: 0.8em; font-weight: bold; line-height: 1; border-radius: 0.35em; text-transform: uppercase; vertical-align: middle; margin-left: 0.5rem\">DATE</span>\n",
              "</mark>\n",
              " profoundly negative impact psychological outcome early research \n",
              "<mark class=\"entity\" style=\"background: #feca74; padding: 0.45em 0.6em; margin: 0 0.25em; line-height: 1; border-radius: 0.35em;\">\n",
              "    china\n",
              "    <span style=\"font-size: 0.8em; font-weight: bold; line-height: 1; border-radius: 0.35em; text-transform: uppercase; vertical-align: middle; margin-left: 0.5rem\">GPE</span>\n",
              "</mark>\n",
              " show potentially psychological consequence covid-19 healthcare worker quarantine population chew \n",
              "<mark class=\"entity\" style=\"background: #aa9cfc; padding: 0.45em 0.6em; margin: 0 0.25em; line-height: 1; border-radius: 0.35em;\">\n",
              "    al.\n",
              "    <span style=\"font-size: 0.8em; font-weight: bold; line-height: 1; border-radius: 0.35em; text-transform: uppercase; vertical-align: middle; margin-left: 0.5rem\">PERSON</span>\n",
              "</mark>\n",
              " \n",
              "<mark class=\"entity\" style=\"background: #aa9cfc; padding: 0.45em 0.6em; margin: 0 0.25em; line-height: 1; border-radius: 0.35em;\">\n",
              "    tang al\n",
              "    <span style=\"font-size: 0.8em; font-weight: bold; line-height: 1; border-radius: 0.35em; text-transform: uppercase; vertical-align: middle; margin-left: 0.5rem\">PERSON</span>\n",
              "</mark>\n",
              ". cost-effectiveness calculation inevitably impact parameter change arise newly acquire knowledge rate disorder different affect group difference ease identify engage population change increase availability online screen treatment likely effect reduce cost increase costeffectiveness high prevalence affect people limit knowledge host country language likely effect increase cost model provide structure assess likely benefit -in absence directly observe \n",
              "<mark class=\"entity\" style=\"background: #7aecec; padding: 0.45em 0.6em; margin: 0 0.25em; line-height: 1; border-radius: 0.35em;\">\n",
              "    datum stage -of institute\n",
              "    <span style=\"font-size: 0.8em; font-weight: bold; line-height: 1; border-radius: 0.35em; text-transform: uppercase; vertical-align: middle; margin-left: 0.5rem\">ORG</span>\n",
              "</mark>\n",
              " screen-and-treat programme different context psychological impact terrorist attack \n",
              "<mark class=\"entity\" style=\"background: #bfe1d9; padding: 0.45em 0.6em; margin: 0 0.25em; line-height: 1; border-radius: 0.35em;\">\n",
              "    recent year\n",
              "    <span style=\"font-size: 0.8em; font-weight: bold; line-height: 1; border-radius: 0.35em; text-transform: uppercase; vertical-align: middle; margin-left: 0.5rem\">DATE</span>\n",
              "</mark>\n",
              " prevalent part society psychological impact covid-19 pandemic begin appreciate form major incident sequalae severe psychological condition include ptsd inevitable feature cause extensive personal community suffer address condition require active investment plan delivery level policy maker strategic operational health care team local community hope analysis paper way drive positive attitude key stakeholder ensure service post-traumatic psychological condition fund manage effectively era major incident right reserve reuse allow permission certify peer review author/funder grant medrxiv license display preprint perpetuity holder preprint version post \n",
              "<mark class=\"entity\" style=\"background: #bfe1d9; padding: 0.45em 0.6em; margin: 0 0.25em; line-height: 1; border-radius: 0.35em;\">\n",
              "    june\n",
              "    <span style=\"font-size: 0.8em; font-weight: bold; line-height: 1; border-radius: 0.35em; text-transform: uppercase; vertical-align: middle; margin-left: 0.5rem\">DATE</span>\n",
              "</mark>\n",
              " https://doi.org/10.1101 /2020 incremental cost-effectiveness ratio icer patient public involve design conduct report dissemination finding manuscript honest accurate transparent account study report important aspect study omit</div></span>"
            ],
            "text/plain": [
              "<IPython.core.display.HTML object>"
            ]
          },
          "metadata": {
            "tags": []
          }
        }
      ]
    },
    {
      "cell_type": "code",
      "metadata": {
        "colab": {
          "base_uri": "https://localhost:8080/"
        },
        "id": "c2sLlaE68iGA",
        "outputId": "550a06ad-a4ba-4c1a-e3fe-e87a7c153304"
      },
      "source": [
        "# https://spacy.io/api/annotation\n",
        "for i in doc.ents:\n",
        "  if i.label_ == 'GPE' or i.label_ == 'NORP':\n",
        "    print(i.text, i.label_)"
      ],
      "execution_count": 29,
      "outputs": [
        {
          "output_type": "stream",
          "text": [
            "french NORP\n",
            "uk GPE\n",
            "london GPE\n",
            "french NORP\n",
            "london GPE\n",
            "british NORP\n",
            "london GPE\n",
            "london GPE\n",
            "england GPE\n",
            "london GPE\n",
            "australian NORP\n",
            "qaly GPE\n",
            "england GPE\n",
            "qaly GPE\n",
            "uk GPE\n",
            "uk GPE\n",
            "london GPE\n",
            "australian NORP\n",
            "qaly GPE\n",
            "australian NORP\n",
            "uk GPE\n",
            "japan GPE\n",
            "canadian NORP\n",
            "china GPE\n"
          ],
          "name": "stdout"
        }
      ]
    },
    {
      "cell_type": "code",
      "metadata": {
        "id": "XceWIJD215KG"
      },
      "source": [
        "gpe = []\n",
        "for index, col in corona_df.iterrows():\n",
        "  text = col['text']\n",
        "  doc = nlp_ent(text)\n",
        "  for ent in doc.ents:\n",
        "    if ent.label_ == 'GPE':\n",
        "      gpe.append(str(ent.text))"
      ],
      "execution_count": 30,
      "outputs": []
    },
    {
      "cell_type": "code",
      "metadata": {
        "colab": {
          "base_uri": "https://localhost:8080/"
        },
        "id": "2q1hYBd6GUDx",
        "outputId": "24ff6141-b39a-4a10-88e7-5e2d594d0c70"
      },
      "source": [
        "len(gpe)"
      ],
      "execution_count": 31,
      "outputs": [
        {
          "output_type": "execute_result",
          "data": {
            "text/plain": [
              "6436"
            ]
          },
          "metadata": {
            "tags": []
          },
          "execution_count": 31
        }
      ]
    },
    {
      "cell_type": "code",
      "metadata": {
        "id": "RkZuctELH01u"
      },
      "source": [
        "values_gpe, counts_gpe = np.unique(np.array(gpe), return_counts = True)"
      ],
      "execution_count": 32,
      "outputs": []
    },
    {
      "cell_type": "code",
      "metadata": {
        "id": "lk9Pz_Y4IFa3"
      },
      "source": [
        "gpe_df = pd.DataFrame({'value': values_gpe, 'counts': counts_gpe})"
      ],
      "execution_count": 33,
      "outputs": []
    },
    {
      "cell_type": "code",
      "metadata": {
        "id": "pZx0L7DGITQX"
      },
      "source": [
        "gpe_df_filtered = gpe_df[gpe_df.counts > 70]"
      ],
      "execution_count": 34,
      "outputs": []
    },
    {
      "cell_type": "code",
      "metadata": {
        "id": "s3Q41rE8IT20",
        "colab": {
          "base_uri": "https://localhost:8080/",
          "height": 483
        },
        "outputId": "0e0a2e1d-f2d1-4499-8dcf-4c8a44471db0"
      },
      "source": [
        "gpe_df_filtered.head(16)"
      ],
      "execution_count": 35,
      "outputs": [
        {
          "output_type": "execute_result",
          "data": {
            "text/html": [
              "<div>\n",
              "<style scoped>\n",
              "    .dataframe tbody tr th:only-of-type {\n",
              "        vertical-align: middle;\n",
              "    }\n",
              "\n",
              "    .dataframe tbody tr th {\n",
              "        vertical-align: top;\n",
              "    }\n",
              "\n",
              "    .dataframe thead th {\n",
              "        text-align: right;\n",
              "    }\n",
              "</style>\n",
              "<table border=\"1\" class=\"dataframe\">\n",
              "  <thead>\n",
              "    <tr style=\"text-align: right;\">\n",
              "      <th></th>\n",
              "      <th>value</th>\n",
              "      <th>counts</th>\n",
              "    </tr>\n",
              "  </thead>\n",
              "  <tbody>\n",
              "    <tr>\n",
              "      <th>229</th>\n",
              "      <td>china</td>\n",
              "      <td>605</td>\n",
              "    </tr>\n",
              "    <tr>\n",
              "      <th>483</th>\n",
              "      <td>germany</td>\n",
              "      <td>116</td>\n",
              "    </tr>\n",
              "    <tr>\n",
              "      <th>572</th>\n",
              "      <td>hong kong</td>\n",
              "      <td>134</td>\n",
              "    </tr>\n",
              "    <tr>\n",
              "      <th>629</th>\n",
              "      <td>india</td>\n",
              "      <td>225</td>\n",
              "    </tr>\n",
              "    <tr>\n",
              "      <th>657</th>\n",
              "      <td>italy</td>\n",
              "      <td>86</td>\n",
              "    </tr>\n",
              "    <tr>\n",
              "      <th>668</th>\n",
              "      <td>japan</td>\n",
              "      <td>117</td>\n",
              "    </tr>\n",
              "    <tr>\n",
              "      <th>897</th>\n",
              "      <td>mrna</td>\n",
              "      <td>258</td>\n",
              "    </tr>\n",
              "    <tr>\n",
              "      <th>953</th>\n",
              "      <td>neutrophil</td>\n",
              "      <td>108</td>\n",
              "    </tr>\n",
              "    <tr>\n",
              "      <th>1234</th>\n",
              "      <td>sirna</td>\n",
              "      <td>107</td>\n",
              "    </tr>\n",
              "    <tr>\n",
              "      <th>1248</th>\n",
              "      <td>south korea</td>\n",
              "      <td>77</td>\n",
              "    </tr>\n",
              "    <tr>\n",
              "      <th>1284</th>\n",
              "      <td>taiwan</td>\n",
              "      <td>100</td>\n",
              "    </tr>\n",
              "    <tr>\n",
              "      <th>1303</th>\n",
              "      <td>thrombocytopenia</td>\n",
              "      <td>84</td>\n",
              "    </tr>\n",
              "    <tr>\n",
              "      <th>1382</th>\n",
              "      <td>uk</td>\n",
              "      <td>147</td>\n",
              "    </tr>\n",
              "    <tr>\n",
              "      <th>1468</th>\n",
              "      <td>wuhan</td>\n",
              "      <td>115</td>\n",
              "    </tr>\n",
              "  </tbody>\n",
              "</table>\n",
              "</div>"
            ],
            "text/plain": [
              "                 value  counts\n",
              "229              china     605\n",
              "483            germany     116\n",
              "572          hong kong     134\n",
              "629              india     225\n",
              "657              italy      86\n",
              "668              japan     117\n",
              "897               mrna     258\n",
              "953         neutrophil     108\n",
              "1234             sirna     107\n",
              "1248       south korea      77\n",
              "1284            taiwan     100\n",
              "1303  thrombocytopenia      84\n",
              "1382                uk     147\n",
              "1468             wuhan     115"
            ]
          },
          "metadata": {
            "tags": []
          },
          "execution_count": 35
        }
      ]
    },
    {
      "cell_type": "code",
      "metadata": {
        "id": "3aAtNou_IWRV",
        "colab": {
          "base_uri": "https://localhost:8080/",
          "height": 611
        },
        "outputId": "37299747-befd-40c0-f592-cb7079555ebd"
      },
      "source": [
        "sns.set(rc={'figure.figsize': (25,10)})\n",
        "sns.barplot(x = 'value', y = 'counts', hue='value', data=gpe_df_filtered);"
      ],
      "execution_count": 36,
      "outputs": [
        {
          "output_type": "display_data",
          "data": {
            "image/png": "[encoded data removed]",
            "text/plain": [
              "<Figure size 1800x720 with 1 Axes>"
            ]
          },
          "metadata": {
            "tags": []
          }
        }
      ]
    },
    {
      "cell_type": "markdown",
      "metadata": {
        "id": "zdhjjrwmTMq7"
      },
      "source": [
        "# Visualização das palavras mais frequentes"
      ]
    },
    {
      "cell_type": "code",
      "metadata": {
        "id": "qJV8NT3klEl8"
      },
      "source": [
        "from matplotlib.colors import ListedColormap\n",
        "color_map = ListedColormap(['orange', 'green', 'red', 'magenta'])"
      ],
      "execution_count": 37,
      "outputs": []
    },
    {
      "cell_type": "code",
      "metadata": {
        "id": "xtUjm6P8lRxQ"
      },
      "source": [
        "from wordcloud import WordCloud\n",
        "cloud = WordCloud(background_color = 'white', max_words=100, colormap=color_map)"
      ],
      "execution_count": 38,
      "outputs": []
    },
    {
      "cell_type": "code",
      "metadata": {
        "colab": {
          "base_uri": "https://localhost:8080/",
          "height": 449
        },
        "id": "l2L3ltd5lVYR",
        "outputId": "d37ba841-e43d-4a79-e6e9-bce2cfc87f74"
      },
      "source": [
        "cloud = cloud.generate(corona_df['text'].str.cat(sep='\\n'))\n",
        "plt.figure(figsize=(15,15))\n",
        "plt.imshow(cloud)\n",
        "plt.axis('off')\n",
        "plt.show()"
      ],
      "execution_count": 39,
      "outputs": [
        {
          "output_type": "display_data",
          "data": {
            "image/png": "[encoded data removed]",
            "text/plain": [
              "<Figure size 1080x1080 with 1 Axes>"
            ]
          },
          "metadata": {
            "tags": []
          }
        }
      ]
    },
    {
      "cell_type": "markdown",
      "metadata": {
        "id": "1UxX_WRDJg54"
      },
      "source": [
        "# Pesquisa com spaCy"
      ]
    },
    {
      "cell_type": "code",
      "metadata": {
        "colab": {
          "base_uri": "https://localhost:8080/"
        },
        "id": "2yQVDEuBI1qV",
        "outputId": "4482f70a-08e3-4bce-cefa-e6d0d72b8b89"
      },
      "source": [
        "search_strings = ['Smoking','potential risks']\n",
        "tokens_list = [nlp(spacy_token(item)) for item in search_strings]\n",
        "tokens_list"
      ],
      "execution_count": 82,
      "outputs": [
        {
          "output_type": "execute_result",
          "data": {
            "text/plain": [
              "[smoking, potential risk]"
            ]
          },
          "metadata": {
            "tags": []
          },
          "execution_count": 82
        }
      ]
    },
    {
      "cell_type": "code",
      "metadata": {
        "id": "8wstLJR_KokE"
      },
      "source": [
        "# https://spacy.io/api/matcher\n",
        "# https://spacy.io/usage/rule-based-matching#phrasematcher\n",
        "from spacy.matcher import PhraseMatcher\n",
        "matcher = PhraseMatcher(nlp.vocab)\n",
        "matcher.add('SEARCH', None, *tokens_list)\n",
        "numbers_of_words = 50"
      ],
      "execution_count": 83,
      "outputs": []
    },
    {
      "cell_type": "markdown",
      "metadata": {
        "id": "013khskjGoeA"
      },
      "source": [
        "## Teste 'matcher'\n",
        "matcher retorna uma lista de tuplas com o codigo seguido da posição da palavra encontrada"
      ]
    },
    {
      "cell_type": "code",
      "metadata": {
        "colab": {
          "base_uri": "https://localhost:8080/",
          "height": 35
        },
        "id": "3Tb2mtEzFggV",
        "outputId": "fefcf787-ba77-4f1a-ce68-251d64fd7381"
      },
      "source": [
        "text = 'group obscure potentially important relationship large study power detect past smoke observe significant difference time smoke cessation organism'\n",
        "text"
      ],
      "execution_count": 84,
      "outputs": [
        {
          "output_type": "execute_result",
          "data": {
            "application/vnd.google.colaboratory.intrinsic+json": {
              "type": "string"
            },
            "text/plain": [
              "'group obscure potentially important relationship large study power detect past smoke observe significant difference time smoke cessation organism'"
            ]
          },
          "metadata": {
            "tags": []
          },
          "execution_count": 84
        }
      ]
    },
    {
      "cell_type": "code",
      "metadata": {
        "id": "NeXeZWI3EyIW"
      },
      "source": [
        "doc = nlp(text)\n",
        "matchers = matcher(doc)\n"
      ],
      "execution_count": 86,
      "outputs": []
    },
    {
      "cell_type": "code",
      "metadata": {
        "colab": {
          "base_uri": "https://localhost:8080/"
        },
        "id": "5ln4auXaHogQ",
        "outputId": "681f02eb-968f-476d-81ef-0c70b6e12c86"
      },
      "source": [
        "# Para visualozar a palavra encontrada\n",
        "doc[15:16]"
      ],
      "execution_count": 87,
      "outputs": [
        {
          "output_type": "execute_result",
          "data": {
            "text/plain": [
              "smoke"
            ]
          },
          "metadata": {
            "tags": []
          },
          "execution_count": 87
        }
      ]
    },
    {
      "cell_type": "code",
      "metadata": {
        "colab": {
          "base_uri": "https://localhost:8080/"
        },
        "id": "nt-OB_mAIIxD",
        "outputId": "d26e0757-cfc8-4c4d-f4d5-172031aae369"
      },
      "source": [
        "doc[5-15:16+5]"
      ],
      "execution_count": 88,
      "outputs": [
        {
          "output_type": "execute_result",
          "data": {
            "text/plain": [
              "detect past smoke observe significant difference time smoke cessation organism"
            ]
          },
          "metadata": {
            "tags": []
          },
          "execution_count": 88
        }
      ]
    },
    {
      "cell_type": "code",
      "metadata": {
        "id": "deQrL4yWKrXn"
      },
      "source": [
        "search_string_html = ' '.join([str(element) for element in search_strings])"
      ],
      "execution_count": 89,
      "outputs": []
    },
    {
      "cell_type": "markdown",
      "metadata": {
        "id": "OOOncRO1apQw"
      },
      "source": [
        "## Imprimindo textos com palavras encontradas"
      ]
    },
    {
      "cell_type": "code",
      "metadata": {
        "id": "ZsIYyUzlKsFd",
        "colab": {
          "base_uri": "https://localhost:8080/",
          "height": 1000
        },
        "outputId": "8450d712-94a8-4a23-ca0c-9f27bebb4cf7"
      },
      "source": [
        "for index, row in corona_df.iterrows():\n",
        "    marked_text = ''\n",
        "    doc = nlp(row['text'])\n",
        "    paper_id = row['paper_id']\n",
        "    title = row['title']\n",
        "    matches = matcher(doc)\n",
        "    if matches == []:\n",
        "        continue\n",
        "    display(HTML(f'<h1>{search_string_html.upper()}</h1>'))\n",
        "    display(HTML(f\"\"\"<p>\n",
        "                      <strong>Titulo:</strong> {title}</br>\n",
        "                      <strong>ID:</strong> {paper_id}</br>\n",
        "                      <strong>Numero de vezes:</strong> {len(matches)}\n",
        "                     </p>\"\"\"))\n",
        "    for i in matches:\n",
        "        start = i[1] - numbers_of_words\n",
        "        if start < 0 :\n",
        "            start = 0\n",
        "        for j in range(len(tokens_list)):\n",
        "            if doc[i[1]:i[2]].similarity(tokens_list[j]) == 1.0:\n",
        "                search_text = str(tokens_list[j])\n",
        "                marked_text = str(doc[start:i[2] + numbers_of_words]).replace(search_text, f\"<mark>{search_text}</mark>\")\n",
        "                marked_text += \"<br /><br /> \"\n",
        "    display(HTML(f\"\"\"<blockquote>...{marked_text}...</blockquote>\"\"\"))   "
      ],
      "execution_count": 90,
      "outputs": [
        {
          "output_type": "display_data",
          "data": {
            "text/html": [
              "<h1>SMOKING POTENTIAL RISKS</h1>"
            ],
            "text/plain": [
              "<IPython.core.display.HTML object>"
            ]
          },
          "metadata": {
            "tags": []
          }
        },
        {
          "output_type": "display_data",
          "data": {
            "text/html": [
              "<p>\n",
              "                      <strong>Titulo:</strong> Lessons after the early management of the COVID-19 outbreak in a pediatric transplant and hemato-oncology center embedded within a COVID-19 dedicated hospital in Lombardia, Italy. Estote parati Background-the SARS-CoV-2 outbreak in Italy</br>\n",
              "                      <strong>ID:</strong> 71aab4e454d59874b393f7d424403c518e34ab88</br>\n",
              "                      <strong>Numero de vezes:</strong> 1\n",
              "                     </p>"
            ],
            "text/plain": [
              "<IPython.core.display.HTML object>"
            ]
          },
          "metadata": {
            "tags": []
          }
        },
        {
          "output_type": "stream",
          "text": [
            "/usr/local/lib/python3.6/dist-packages/ipykernel_launcher.py:20: UserWarning: [W007] The model you're using has no word vectors loaded, so the result of the Span.similarity method will be based on the tagger, parser and NER, which may not give useful similarity judgements. This may happen if you're using one of the small models, e.g. `en_core_web_sm`, which don't ship with word vectors and only use context-sensitive tensors. You can always add your own word vectors, or use one of the larger models instead if available.\n"
          ],
          "name": "stderr"
        },
        {
          "output_type": "display_data",
          "data": {
            "text/html": [
              "<blockquote>...occur careful screen include specific question temperature assessment visit covid-19 symptom sign request patient his/her family admission suspicious patient nucleic acid test perform preventive measure hospitalization detail chemotherapy local hospital consider order reduce population migration chemotherapy delay positive asymptomatic patient controversial evidence time harm patient proceed chemo take <mark>potential risk</mark> facilitate severe pattern covid-19 wait reduce dose intensity treatment delay vary day day i.e. apparently time median incubation time severe adult case condition usually worsen week day account incubation time case detection negative swab asymptomatic case symptom resolution symptomatic case swab negativization week adult experience happen early kid steroid treatment<br /><br /> ...</blockquote>"
            ],
            "text/plain": [
              "<IPython.core.display.HTML object>"
            ]
          },
          "metadata": {
            "tags": []
          }
        },
        {
          "output_type": "display_data",
          "data": {
            "text/html": [
              "<h1>SMOKING POTENTIAL RISKS</h1>"
            ],
            "text/plain": [
              "<IPython.core.display.HTML object>"
            ]
          },
          "metadata": {
            "tags": []
          }
        },
        {
          "output_type": "display_data",
          "data": {
            "text/html": [
              "<p>\n",
              "                      <strong>Titulo:</strong> Effect of Sacubitril/Valsartan on Neurocognitive Function: Current Status and Future Directions</br>\n",
              "                      <strong>ID:</strong> ecbf20f20f59b28c7b07f985125fc83d767f3515</br>\n",
              "                      <strong>Numero de vezes:</strong> 1\n",
              "                     </p>"
            ],
            "text/plain": [
              "<IPython.core.display.HTML object>"
            ]
          },
          "metadata": {
            "tags": []
          }
        },
        {
          "output_type": "display_data",
          "data": {
            "text/html": [
              "<blockquote>...score screen clinically significant cerebral pathology impact cognition assess central mri reader inability perform cognitive battery study evaluation time relatively short paragon-hf trial entresto fail meet primary efficacy endpoint improve numb secondary endpoint patient hfpef perspective trial ongoing clinical trial provide important answer entresto safety profile need clarification <mark>potential risk</mark> cognitive effect disclosure paper content previously publish author read approve manuscript fund fund publication conflict interest jason galo diego celli rosario colombo declare potential conflict interest relevant content article conflict interest author tie industry ethic approval applicable consent publication author review edit agreement publication code availability applicable<br /><br /> ...</blockquote>"
            ],
            "text/plain": [
              "<IPython.core.display.HTML object>"
            ]
          },
          "metadata": {
            "tags": []
          }
        },
        {
          "output_type": "display_data",
          "data": {
            "text/html": [
              "<h1>SMOKING POTENTIAL RISKS</h1>"
            ],
            "text/plain": [
              "<IPython.core.display.HTML object>"
            ]
          },
          "metadata": {
            "tags": []
          }
        },
        {
          "output_type": "display_data",
          "data": {
            "text/html": [
              "<p>\n",
              "                      <strong>Titulo:</strong> The First Modified Delphi Consensus Statement for Resuming Bariatric and Metabolic Surgery in the COVID-19 Times</br>\n",
              "                      <strong>ID:</strong> 899e53b235579d4f24ab9d864c43ec2564bc4f95</br>\n",
              "                      <strong>Numero de vezes:</strong> 1\n",
              "                     </p>"
            ],
            "text/plain": [
              "<IPython.core.display.HTML object>"
            ]
          },
          "metadata": {
            "tags": []
          }
        },
        {
          "output_type": "display_data",
          "data": {
            "text/html": [
              "<blockquote>...ensure clear policy use type ppe agree separate hospital/clinic available bms carry hospital wing treat patient coronavirus disease-19 covid-19 agree screen test sars-cov-2 perform designate facility contact patient minimise agree patient screen symptom covid-19 arrival hospital agree patient hospitalisation time bms short possible agree patient consent <mark>potential risk</mark> acquire sars-cov-2 infection hospital stay agree patient contact sars-cov-2 positive patient fortnight lead operation agree bms postpone preoperative covid-19 antigen/ pcr test positive agree healthcare professional involve deliver bms symptom suggestive covid-19 self-isolate day agree healthcare professional symptom suggestive covid-19 test sars-cov-2<br /><br /> ...</blockquote>"
            ],
            "text/plain": [
              "<IPython.core.display.HTML object>"
            ]
          },
          "metadata": {
            "tags": []
          }
        },
        {
          "output_type": "display_data",
          "data": {
            "text/html": [
              "<h1>SMOKING POTENTIAL RISKS</h1>"
            ],
            "text/plain": [
              "<IPython.core.display.HTML object>"
            ]
          },
          "metadata": {
            "tags": []
          }
        },
        {
          "output_type": "display_data",
          "data": {
            "text/html": [
              "<p>\n",
              "                      <strong>Titulo:</strong> Alpha 1 Antitrypsin is an Inhibitor of the SARS-CoV-2-Priming Protease TMPRSS2</br>\n",
              "                      <strong>ID:</strong> 1edb7d5c1be879a74876cf4ae5a57797611ad9d4</br>\n",
              "                      <strong>Numero de vezes:</strong> 1\n",
              "                     </p>"
            ],
            "text/plain": [
              "<IPython.core.display.HTML object>"
            ]
          },
          "metadata": {
            "tags": []
          }
        },
        {
          "output_type": "display_data",
          "data": {
            "text/html": [
              "<blockquote>...tmprss2 and/or expression protease include intracellular protease cleave protein target host extracellular protease tmprss2 advantage target viral protein anti-virals rapidly lose effectiveness high rate mutation occur viral genome target host protein limit risk drug-resistant virus relatively low rate mutation host genome notably obstacle target human protein <mark>potential risk</mark> alter physiologic pathway suggest tmprss2 initiate cascade proteolytic activation event regulate process protein seminal fluid lung tmprss2 regulate sodium channel enac donaldson al. mouse deficient tmprss2 lack obvious phenotype suggest protease redundant role compensate loss tmprss2 kim al. delivery tmprss2 inhibitor viral infection likely relatively safe strategy safety<br /><br /> ...</blockquote>"
            ],
            "text/plain": [
              "<IPython.core.display.HTML object>"
            ]
          },
          "metadata": {
            "tags": []
          }
        },
        {
          "output_type": "display_data",
          "data": {
            "text/html": [
              "<h1>SMOKING POTENTIAL RISKS</h1>"
            ],
            "text/plain": [
              "<IPython.core.display.HTML object>"
            ]
          },
          "metadata": {
            "tags": []
          }
        },
        {
          "output_type": "display_data",
          "data": {
            "text/html": [
              "<p>\n",
              "                      <strong>Titulo:</strong> Former AED Lecturer Practitioner from 2002-2005) a, * , Ping Fat Lau MPh</br>\n",
              "                      <strong>ID:</strong> e8148d38dfde3fe8cd1450f177962d4bf02ba178</br>\n",
              "                      <strong>Numero de vezes:</strong> 2\n",
              "                     </p>"
            ],
            "text/plain": [
              "<IPython.core.display.HTML object>"
            ]
          },
          "metadata": {
            "tags": []
          }
        },
        {
          "output_type": "display_data",
          "data": {
            "text/html": [
              "<blockquote>...system introduce 5-tier triage system describe category type critical -patient treat immediately suffer lifethreatening condition unstable vital sign cause major event category type ii emergency -patient treat min suffer potentially life-threatening condition borderline vital sign <mark>potential risk</mark> rapid deterioration category iii urgent -patient treat min suffer major condition <mark>potential risk</mark> deterioration stable vital sign category iv patient semi-urgent -patient treat min patient suffer acute stable condition category non-urgent -patient acute condition patient treat min ha triage guideline hong kong workflow regional aed generally well-organized handle high volume case patient wait time need keep min<br /><br /> ...</blockquote>"
            ],
            "text/plain": [
              "<IPython.core.display.HTML object>"
            ]
          },
          "metadata": {
            "tags": []
          }
        },
        {
          "output_type": "display_data",
          "data": {
            "text/html": [
              "<h1>SMOKING POTENTIAL RISKS</h1>"
            ],
            "text/plain": [
              "<IPython.core.display.HTML object>"
            ]
          },
          "metadata": {
            "tags": []
          }
        },
        {
          "output_type": "display_data",
          "data": {
            "text/html": [
              "<p>\n",
              "                      <strong>Titulo:</strong> Journal Pre-proof Global Uncertainties and Portfolio Flow Dynamics of the BRICS Countries Global Uncertainties and Portfolio Flow Dynamics of the BRICS Countries</br>\n",
              "                      <strong>ID:</strong> 29d34a1330b183c264b2683f57c88ce73fa3f5e4</br>\n",
              "                      <strong>Numero de vezes:</strong> 1\n",
              "                     </p>"
            ],
            "text/plain": [
              "<IPython.core.display.HTML object>"
            ]
          },
          "metadata": {
            "tags": []
          }
        },
        {
          "output_type": "display_data",
          "data": {
            "text/html": [
              "<blockquote>...strikingly recent volatility induce post-2018 event manifest sense downward impact capital flow reflect coefficient approach historically low level recent period -p global economy slow rise global uncertainty trade war protectionism policy monetary policy normalization advance country accompany tighten financial condition emerge market concern re-balance chinese economy situation perceive <mark>potential risk</mark> factor capital flow -PRON- country increase interconnectedness contagion risk financial architecture capital flow easily exhibit flight-to-quality behavior revolt -PRON- country high uncertainty period paper time-<br /><br /> ...</blockquote>"
            ],
            "text/plain": [
              "<IPython.core.display.HTML object>"
            ]
          },
          "metadata": {
            "tags": []
          }
        },
        {
          "output_type": "display_data",
          "data": {
            "text/html": [
              "<h1>SMOKING POTENTIAL RISKS</h1>"
            ],
            "text/plain": [
              "<IPython.core.display.HTML object>"
            ]
          },
          "metadata": {
            "tags": []
          }
        },
        {
          "output_type": "display_data",
          "data": {
            "text/html": [
              "<p>\n",
              "                      <strong>Titulo:</strong> a section of the journal Frontiers in Medicine</br>\n",
              "                      <strong>ID:</strong> f71331b3d101ecf4f99bb67063a75414d41f6f61</br>\n",
              "                      <strong>Numero de vezes:</strong> 1\n",
              "                     </p>"
            ],
            "text/plain": [
              "<IPython.core.display.HTML object>"
            ]
          },
          "metadata": {
            "tags": []
          }
        },
        {
          "output_type": "display_data",
          "data": {
            "text/html": [
              "<blockquote>...room currentl apply alternatively conscious sedation carefully pre-ercp screen patient suitability note disadvantage relate usage ppe wear goggle face shield cause lens fog quickly prevent goggle fog small drop liquid soap rub lens furthermore current design face shield able cover low face region endoscopist raise head figure 3c <mark>potential risk</mark> hcw aerosolization appear modify design face shield solution base practical experience publish guideline strategically assign hcw uncertain time minimize concomitant exposure apply triage workflow urgent ercp success prevent covid-19 transmission achieve raw datum support conclusion article available author undue reservation ethical review approval require study human participant accordance local legislation<br /><br /> ...</blockquote>"
            ],
            "text/plain": [
              "<IPython.core.display.HTML object>"
            ]
          },
          "metadata": {
            "tags": []
          }
        },
        {
          "output_type": "display_data",
          "data": {
            "text/html": [
              "<h1>SMOKING POTENTIAL RISKS</h1>"
            ],
            "text/plain": [
              "<IPython.core.display.HTML object>"
            ]
          },
          "metadata": {
            "tags": []
          }
        },
        {
          "output_type": "display_data",
          "data": {
            "text/html": [
              "<p>\n",
              "                      <strong>Titulo:</strong> Effectiveness and cost-effectiveness of a progressive, individualised walking and education program for prevention of low back pain recurrence in adults: study protocol for the WalkBack randomised controlled trial. Effectiveness and cost-effectiveness of a progressive, individualised walking and education program for prevention of low back pain recurrence in adults: study protocol for the WalkBack randomised controlled trial</br>\n",
              "                      <strong>ID:</strong> 73866dc66e4ef271de6d299e150aaf0e8111510e</br>\n",
              "                      <strong>Numero de vezes:</strong> 1\n",
              "                     </p>"
            ],
            "text/plain": [
              "<IPython.core.display.HTML object>"
            ]
          },
          "metadata": {
            "tags": []
          }
        },
        {
          "output_type": "display_data",
          "data": {
            "text/html": [
              "<blockquote>...day approximately month project monitor provide accurate information level physical activity one-week period monitor small light wear waist provide instruction care device able contact research team have difficulty know risk study minimal allocate walk education program like physical activity small risk injury temporary soreness muscle strain chance fall <mark>potential risk</mark> arise enroll study screen phone researcher sure appropriate study concern ask permission gp enroll study physiotherapist tailor treatment ability minimise risk pay participate study allocate walk education group session physiotherapist involve trial free charge physiotherapist pay directly research team standard rate information personal detail gather course study confidential require law<br /><br /> ...</blockquote>"
            ],
            "text/plain": [
              "<IPython.core.display.HTML object>"
            ]
          },
          "metadata": {
            "tags": []
          }
        },
        {
          "output_type": "display_data",
          "data": {
            "text/html": [
              "<h1>SMOKING POTENTIAL RISKS</h1>"
            ],
            "text/plain": [
              "<IPython.core.display.HTML object>"
            ]
          },
          "metadata": {
            "tags": []
          }
        },
        {
          "output_type": "display_data",
          "data": {
            "text/html": [
              "<p>\n",
              "                      <strong>Titulo:</strong> P1 Comparison of carbamylated versus recombinant erythropoietin during spinal cord ischemia/reperfusion injury P2 Sodium 4-phenylbutylate protects against myocardial ischemia-reperfusion injury by reducing unfolded protein response-mediated apoptosis in mice P3 Time-dependent eff ects of intravenous H 2 S during long-term, resuscitated porcine hemorrhagic shock</br>\n",
              "                      <strong>ID:</strong> 2e2bc679c8393230bac2af64115bab7ed1ba62c0</br>\n",
              "                      <strong>Numero de vezes:</strong> 1\n",
              "                     </p>"
            ],
            "text/plain": [
              "<IPython.core.display.HTML object>"
            ]
          },
          "metadata": {
            "tags": []
          }
        },
        {
          "output_type": "display_data",
          "data": {
            "text/html": [
              "<blockquote>...fi have patient long period severe hypotension patient abdominal pain present symptom rest patient nonspecifi presentation ventilate sedate patient present abdominal distension abdominal x-rays show paralytic ileus feature serum value ast ldh ck lactate slightly elevate patient patient die septic shock multiple organ failure mortality rate patient nomi <mark>potential risk</mark> factor contribute occurrence nomi sensitive marker follow continuous hemodiafi ltration hypotension high-dose catecholamine dehydration abdominal pain paralytic ileus pattern abdominal x-rays conclusion increase nomi incidence follow cardiothoracic surgery relate continuous hemodiafi ltration hypotension dehydration use high-dose catecholamine identifi cation patient nomi risk prevention hypovolemic<br /><br /> ...</blockquote>"
            ],
            "text/plain": [
              "<IPython.core.display.HTML object>"
            ]
          },
          "metadata": {
            "tags": []
          }
        },
        {
          "output_type": "display_data",
          "data": {
            "text/html": [
              "<h1>SMOKING POTENTIAL RISKS</h1>"
            ],
            "text/plain": [
              "<IPython.core.display.HTML object>"
            ]
          },
          "metadata": {
            "tags": []
          }
        },
        {
          "output_type": "display_data",
          "data": {
            "text/html": [
              "<p>\n",
              "                      <strong>Titulo:</strong> Safety measures in selected radiotherapy centres within Africa in the face of Covid-19</br>\n",
              "                      <strong>ID:</strong> 0c00df588d13adde6e7948121c25f71bb0a7d407</br>\n",
              "                      <strong>Numero de vezes:</strong> 1\n",
              "                     </p>"
            ],
            "text/plain": [
              "<IPython.core.display.HTML object>"
            ]
          },
          "metadata": {
            "tags": []
          }
        },
        {
          "output_type": "display_data",
          "data": {
            "text/html": [
              "<blockquote>...measure ensure health service continually deliver compromise safety patient health personnel general public claw covid-19 expert radiotherapy suggest practice hypo-fractionation schedule cancer patient treatment reduce workforce shift frequent disinfection radiotherapy centre key immediate measure institute radiotherapy centre face covid-19 era ensure delicate balance provide adequate radiotherapy delivery mitigate <mark>potential risk</mark> covid-19 infection objective study analyze safety measure practice place radiotherapy rt centre africa region ensure radiotherapy service continually deliver optimally safe level reduce covid-19 infection spread patient caregiver workforce radiotherapy important component cancer control programme africa country southern northern part continent have concentration facility fig. country africa total radiotherapy<br /><br /> ...</blockquote>"
            ],
            "text/plain": [
              "<IPython.core.display.HTML object>"
            ]
          },
          "metadata": {
            "tags": []
          }
        },
        {
          "output_type": "display_data",
          "data": {
            "text/html": [
              "<h1>SMOKING POTENTIAL RISKS</h1>"
            ],
            "text/plain": [
              "<IPython.core.display.HTML object>"
            ]
          },
          "metadata": {
            "tags": []
          }
        },
        {
          "output_type": "display_data",
          "data": {
            "text/html": [
              "<p>\n",
              "                      <strong>Titulo:</strong> Factors Associated with Mental Health Results among Workers with Income Losses Exposed to COVID-19 in China</br>\n",
              "                      <strong>ID:</strong> a2b3fd5492e8834531488e0e24c0eb5afc2eb854</br>\n",
              "                      <strong>Numero de vezes:</strong> 1\n",
              "                     </p>"
            ],
            "text/plain": [
              "<IPython.core.display.HTML object>"
            ]
          },
          "metadata": {
            "tags": []
          }
        },
        {
          "output_type": "display_data",
          "data": {
            "text/html": [
              "<blockquote>...occurrence psychological morbidity worker impact daily function lead immediate economic physiological consequence lose job productivity depression anxiety well knowledge previous study focus mental health problem people income loss cause covid-19 address gap aim study evaluate mental health chinese worker income loss expose covid-19 quantify degree depression anxiety insomnia distress analyze <mark>potential risk</mark> factor relate symptom study age sex demographic characteristic participant hubei province outside hubei province take research object comparison regional difference ultimate goal study assess mental health burden people income loss covid-19 provide guidance promotion mental well-being population cross-sectional study conduct online survey face-to-<br /><br /> ...</blockquote>"
            ],
            "text/plain": [
              "<IPython.core.display.HTML object>"
            ]
          },
          "metadata": {
            "tags": []
          }
        },
        {
          "output_type": "display_data",
          "data": {
            "text/html": [
              "<h1>SMOKING POTENTIAL RISKS</h1>"
            ],
            "text/plain": [
              "<IPython.core.display.HTML object>"
            ]
          },
          "metadata": {
            "tags": []
          }
        },
        {
          "output_type": "display_data",
          "data": {
            "text/html": [
              "<p>\n",
              "                      <strong>Titulo:</strong> Bench-to-bedside review: Critical illness-associated cognitive dysfunction -mechanisms, markers, and emerging therapeutics</br>\n",
              "                      <strong>ID:</strong> b3ab47699907f78c2ac478d06f682f56fa0cf351</br>\n",
              "                      <strong>Numero de vezes:</strong> 2\n",
              "                     </p>"
            ],
            "text/plain": [
              "<IPython.core.display.HTML object>"
            ]
          },
          "metadata": {
            "tags": []
          }
        },
        {
          "output_type": "display_data",
          "data": {
            "text/html": [
              "<blockquote>...statistically significant great numb patient recombinant human erythropoietin rhuepo receive considerable attention potential transfusion spare strategy icu interestingly epo receptor express nervous system systemically administer rhuepo reach site brain preclinical study rhuepo reduce neuronal injury produce focal ischemia tbi spinal cord injury subarachnoid hemorrhage enthusiasm use general neuroprotectant icu temper <mark>potential risk</mark> thromboembolism considerable cost drug concern safety partially address recent find erythropoietin derivative tissue protective hematopoietic property xenon chemically inert gas anesthetic agent contrast enhancement ct scan rat xenon appear protect brain neurologic damage associate use cardiopulmonary bypass effect potentially relate n-methyl-d-aspartate receptor antagonism tendency<br /><br /> ...</blockquote>"
            ],
            "text/plain": [
              "<IPython.core.display.HTML object>"
            ]
          },
          "metadata": {
            "tags": []
          }
        },
        {
          "output_type": "display_data",
          "data": {
            "text/html": [
              "<h1>SMOKING POTENTIAL RISKS</h1>"
            ],
            "text/plain": [
              "<IPython.core.display.HTML object>"
            ]
          },
          "metadata": {
            "tags": []
          }
        },
        {
          "output_type": "display_data",
          "data": {
            "text/html": [
              "<p>\n",
              "                      <strong>Titulo:</strong> Society of General Internal Medicine CLINICAL VIGNETTES THE INFILTRATING EOSINOPHIL: A CASE OF CHURG STRAUSS SYNDROME</br>\n",
              "                      <strong>ID:</strong> a037a1a6fe76f1c43e33a639231b9874cb655f88</br>\n",
              "                      <strong>Numero de vezes:</strong> 5\n",
              "                     </p>"
            ],
            "text/plain": [
              "<IPython.core.display.HTML object>"
            ]
          },
          "metadata": {
            "tags": []
          }
        },
        {
          "output_type": "display_data",
          "data": {
            "text/html": [
              "<blockquote>...see migraine headache trigger hormonal change unique postpartum period possibly produce autoimmune reaction result vasculitis contribute factor include alter hemodynamics relative coagulopathy associate pregnancy diagnosis rare potentially neurologically devastate disease confirm angiogram current therapy high dose steroid cyclophosphamide risk recurrence disease subsequent birth document woman diagnose postpartum cerebral vasculitis counsel <mark>potential risk</mark> subsequent pregnancy learn objective recognize importance elicit careful review system evaluate patient fever consider prostatitis differential diagnosis methicillin-resistant staphylococcus aureus mrsa bacteremia case information 53-year-old truck driver diabetes present three-day history subjective fever rigor review system patient disclose urinary urgency dysuria physical examination remarkable<br /><br /> ...</blockquote>"
            ],
            "text/plain": [
              "<IPython.core.display.HTML object>"
            ]
          },
          "metadata": {
            "tags": []
          }
        },
        {
          "output_type": "display_data",
          "data": {
            "text/html": [
              "<h1>SMOKING POTENTIAL RISKS</h1>"
            ],
            "text/plain": [
              "<IPython.core.display.HTML object>"
            ]
          },
          "metadata": {
            "tags": []
          }
        },
        {
          "output_type": "display_data",
          "data": {
            "text/html": [
              "<p>\n",
              "                      <strong>Titulo:</strong> Risky Business: Live Non-CITES Wildlife UK Imports and the Potential for Infectious Diseases</br>\n",
              "                      <strong>ID:</strong> 407d930fa79e46fd4d64c4611fb35a1daf341341</br>\n",
              "                      <strong>Numero de vezes:</strong> 1\n",
              "                     </p>"
            ],
            "text/plain": [
              "<IPython.core.display.HTML object>"
            ]
          },
          "metadata": {
            "tags": []
          }
        },
        {
          "output_type": "display_data",
          "data": {
            "text/html": [
              "<blockquote>...trade agreement effective way manage zoonotic disease risk limit contact human animal lieu establish additional international treaty specifically address pathogen transmission cite arguably place adapt incorporate disease spread wildlife trade international remit furthermore general lack surveillance key animal disease country minimal health monitor system exist surround trade wild animal heighten <mark>potential risk</mark> transboundary disease movement address problem emerge infectious disease arise wild animal pathogen world organisation animal health oie consider wild animal translocation particularly high-risk activity advocate prevention-led approach four-stage strategy light high volume diversity non-native live wild animal import uk globe logical prevention<br /><br /> ...</blockquote>"
            ],
            "text/plain": [
              "<IPython.core.display.HTML object>"
            ]
          },
          "metadata": {
            "tags": []
          }
        },
        {
          "output_type": "display_data",
          "data": {
            "text/html": [
              "<h1>SMOKING POTENTIAL RISKS</h1>"
            ],
            "text/plain": [
              "<IPython.core.display.HTML object>"
            ]
          },
          "metadata": {
            "tags": []
          }
        },
        {
          "output_type": "display_data",
          "data": {
            "text/html": [
              "<p>\n",
              "                      <strong>Titulo:</strong> Major complications following surgical correction of spine deformity in 257 patients with cerebral palsy</br>\n",
              "                      <strong>ID:</strong> 5e9845261ba6d975979e83ca6310ee843998956f</br>\n",
              "                      <strong>Numero de vezes:</strong> 1\n",
              "                     </p>"
            ],
            "text/plain": [
              "<IPython.core.display.HTML object>"
            ]
          },
          "metadata": {
            "tags": []
          }
        },
        {
          "output_type": "display_data",
          "data": {
            "text/html": [
              "<blockquote>...complication rate patient undergo spinal deformity surgery range report literature wide discrepancy rate complication likely base historical datum inclusion neuromuscular condition difference complication criterium recently samdani al. report complication rate patient cp presence complication associate increase length icu stay day vs. decision pursue surgery cp patient balance intend outcome <mark>potential risk</mark> complication provide accurate up-to-date information know complication modern day treatment allow improve inform consent well standard reimbursement era pay performance purpose study report rate major perioperative delay complication prospectively enroll cohort surgically treat spinal deformity patient underlie diagnosis cerebral palsy minimum year follow-up spinal<br /><br /> ...</blockquote>"
            ],
            "text/plain": [
              "<IPython.core.display.HTML object>"
            ]
          },
          "metadata": {
            "tags": []
          }
        },
        {
          "output_type": "display_data",
          "data": {
            "text/html": [
              "<h1>SMOKING POTENTIAL RISKS</h1>"
            ],
            "text/plain": [
              "<IPython.core.display.HTML object>"
            ]
          },
          "metadata": {
            "tags": []
          }
        },
        {
          "output_type": "display_data",
          "data": {
            "text/html": [
              "<p>\n",
              "                      <strong>Titulo:</strong> SARS-CoV-2 Vaccine Development: An Overview and Perspectives</br>\n",
              "                      <strong>ID:</strong> fccaf60ea553ab57a5779bc7bf2230a8fdefaa09</br>\n",
              "                      <strong>Numero de vezes:</strong> 2\n",
              "                     </p>"
            ],
            "text/plain": [
              "<IPython.core.display.HTML object>"
            ]
          },
          "metadata": {
            "tags": []
          }
        },
        {
          "output_type": "display_data",
          "data": {
            "text/html": [
              "<blockquote>...approach immediate translation clinic safety issue expect mrnas produce rapidly easily standardize process improve responsiveness emerge outbreak rapid translation vaccine clinic past decade vaccination vitro transcribe mrnas encode viral antigen increasingly promise alternative pdna vaccine use mrna attractive follow expression antigen robust transient mrna noninfectious problem expect owe genomic integration <mark>potential risk</mark> infection insertional mutagenesis additionally mrna degrade normal cellular process vivo half-life regulate use base modification delivery method efficient vivo delivery achieve formulate mrna carrier molecule allow rapid uptake expression cytoplasm addition engineer rna sequence render synthetic mrnas translatable mrna vaccine covid-193.3.3.2 vaccine currently development covid-19 likely license s<br /><br /> ...</blockquote>"
            ],
            "text/plain": [
              "<IPython.core.display.HTML object>"
            ]
          },
          "metadata": {
            "tags": []
          }
        },
        {
          "output_type": "display_data",
          "data": {
            "text/html": [
              "<h1>SMOKING POTENTIAL RISKS</h1>"
            ],
            "text/plain": [
              "<IPython.core.display.HTML object>"
            ]
          },
          "metadata": {
            "tags": []
          }
        },
        {
          "output_type": "display_data",
          "data": {
            "text/html": [
              "<p>\n",
              "                      <strong>Titulo:</strong> An Integrated Strategy for the Prevention of SARS-CoV-2 Infection in Healthcare Workers: A Prospective Observational Study</br>\n",
              "                      <strong>ID:</strong> 989e0e59052a5b2208e6404f62015e97ed6fdfd0</br>\n",
              "                      <strong>Numero de vezes:</strong> 1\n",
              "                     </p>"
            ],
            "text/plain": [
              "<IPython.core.display.HTML object>"
            ]
          },
          "metadata": {
            "tags": []
          }
        },
        {
          "output_type": "display_data",
          "data": {
            "text/html": [
              "<blockquote>...ppe use risk reduction set sars-cov-2 infection risk hcws potentially high high numb patient visit day high proportion perform positive nasopharyngeal swab patient symptomatic fever cough respiratory tract symptom additional fact consider symptomatic patient request wait test dedicate area average continue nurse monitor overall median time exposure hcws <mark>potential risk</mark> estimate h. inter-personal distance time spend confirm infect person influence effectiveness human-to-human transmission sars-cov-2 virus healthcare setting tent structure adequate ventilation guarantee open window see figure know sars-cov-2 transmit large respiratory droplet inhale deposit mucosal surface route transmission include contact<br /><br /> ...</blockquote>"
            ],
            "text/plain": [
              "<IPython.core.display.HTML object>"
            ]
          },
          "metadata": {
            "tags": []
          }
        },
        {
          "output_type": "display_data",
          "data": {
            "text/html": [
              "<h1>SMOKING POTENTIAL RISKS</h1>"
            ],
            "text/plain": [
              "<IPython.core.display.HTML object>"
            ]
          },
          "metadata": {
            "tags": []
          }
        },
        {
          "output_type": "display_data",
          "data": {
            "text/html": [
              "<p>\n",
              "                      <strong>Titulo:</strong> Guideline Approaches for Cardioendocrine Disease Surveillance and Treatment Following Spinal Cord Injury Cardioendocrine Disease The Cardiometabolic Syndrome (CMS)</br>\n",
              "                      <strong>ID:</strong> 4f1a2ae9027e7d25d2bbf981e329fb3a5cd36262</br>\n",
              "                      <strong>Numero de vezes:</strong> 2\n",
              "                     </p>"
            ],
            "text/plain": [
              "<IPython.core.display.HTML object>"
            ]
          },
          "metadata": {
            "tags": []
          }
        },
        {
          "output_type": "display_data",
          "data": {
            "text/html": [
              "<blockquote>...joint national committee jnc 8) evidence-based guideline management high blood pressure control dysglycemia consistent ada standard medical care type diabetes sole area medicine recommend treatment obesity available agent systematically test safety tolerance sci population risk outweigh potential benefit drug interaction prescription non-prescription medicine hazardous specifically cite <mark>potential risk</mark> serotonin syndrome bariatric surgery routine aggressive approach clinical management morbid obesity limit study systematically test safety effectiveness bariatric surgery person sci case report describe procedure inadequate information document perioperative post-operative risk unique population guideline determine bariatric hypertension jnc guideline recommend initial antihypertensive treatment thiazide-type diuretic calcium<br /><br /> ...</blockquote>"
            ],
            "text/plain": [
              "<IPython.core.display.HTML object>"
            ]
          },
          "metadata": {
            "tags": []
          }
        },
        {
          "output_type": "display_data",
          "data": {
            "text/html": [
              "<h1>SMOKING POTENTIAL RISKS</h1>"
            ],
            "text/plain": [
              "<IPython.core.display.HTML object>"
            ]
          },
          "metadata": {
            "tags": []
          }
        },
        {
          "output_type": "display_data",
          "data": {
            "text/html": [
              "<p>\n",
              "                      <strong>Titulo:</strong> Thrombocytopenia in the Intensive Care Unit</br>\n",
              "                      <strong>ID:</strong> 0ff4ee76f47e65ced1ef95794d2bf462b069caab</br>\n",
              "                      <strong>Numero de vezes:</strong> 1\n",
              "                     </p>"
            ],
            "text/plain": [
              "<IPython.core.display.HTML object>"
            ]
          },
          "metadata": {
            "tags": []
          }
        },
        {
          "output_type": "display_data",
          "data": {
            "text/html": [
              "<blockquote>...complex remain active day window heparin re-exposure produce rapid drop platelet count hour case hit present manner thrombocytopenia hit generally severe cause thrombocytopenia icu level rarely fall cells/l patient expose heparin produce igg antibody pf4-heparin complex small minority develop hit give cost associate laboratory test hit <mark>potential risk</mark> transition non-heparin anticoagulant agent diagnosis hit pursue patient intermediate high pre-test probability have disease widely pre-test probability assessment tool hit 4ts score score associate negative predictive value hit obviate need test patient score undergo step-wise serologic test initial serologic test patient intermediate<br /><br /> ...</blockquote>"
            ],
            "text/plain": [
              "<IPython.core.display.HTML object>"
            ]
          },
          "metadata": {
            "tags": []
          }
        },
        {
          "output_type": "display_data",
          "data": {
            "text/html": [
              "<h1>SMOKING POTENTIAL RISKS</h1>"
            ],
            "text/plain": [
              "<IPython.core.display.HTML object>"
            ]
          },
          "metadata": {
            "tags": []
          }
        },
        {
          "output_type": "display_data",
          "data": {
            "text/html": [
              "<p>\n",
              "                      <strong>Titulo:</strong> State-by-State estimates of R0 at the start of COVID-19 outbreaks in the USA</br>\n",
              "                      <strong>ID:</strong> 8472d3921b29238bdf15e0e748d6e83d8406b06f</br>\n",
              "                      <strong>Numero de vezes:</strong> 1\n",
              "                     </p>"
            ],
            "text/plain": [
              "<IPython.core.display.HTML object>"
            ]
          },
          "metadata": {
            "tags": []
          }
        },
        {
          "output_type": "display_data",
          "data": {
            "text/html": [
              "<blockquote>...state enact slow respective epidemic half april state reduce remove restriction death occur state estimate r0 fig. 1c asterisk group low initial r0 state fig. 1f similar analysis case datum show state relax restriction average low estimate r0 end april fig. support information suggest restriction remove accord <mark>potential risk</mark> disease spread state initial r0 fig. 1f concurrent risk spread r0 end april fig. present state-by-state estimate r0 confirm widely understand potential spread rapidly especially urban area fig. 1c state differ greatly experience disease estimate number observation estimate r0 reveal potential threat epidemic<br /><br /> ...</blockquote>"
            ],
            "text/plain": [
              "<IPython.core.display.HTML object>"
            ]
          },
          "metadata": {
            "tags": []
          }
        },
        {
          "output_type": "display_data",
          "data": {
            "text/html": [
              "<h1>SMOKING POTENTIAL RISKS</h1>"
            ],
            "text/plain": [
              "<IPython.core.display.HTML object>"
            ]
          },
          "metadata": {
            "tags": []
          }
        },
        {
          "output_type": "display_data",
          "data": {
            "text/html": [
              "<p>\n",
              "                      <strong>Titulo:</strong> Geographic Distribution and Risk Factors of the Initial Adult Hospitalized Cases of 2009 Pandemic Influenza A (H1N1) Virus Infection in Mainland China</br>\n",
              "                      <strong>ID:</strong> 3ec7aa1d4381bbaa7f5fa69fa8eb7cc1d90a39f1</br>\n",
              "                      <strong>Numero de vezes:</strong> 1\n",
              "                     </p>"
            ],
            "text/plain": [
              "<IPython.core.display.HTML object>"
            ]
          },
          "metadata": {
            "tags": []
          }
        },
        {
          "output_type": "display_data",
          "data": {
            "text/html": [
              "<blockquote>...and/or chest pain pharyngeal abnormality tonsil abnormality white blood cell count complication(s pneumonia live function impairment and/or myocardic injury antiviral medication outcome recovery define resolution symptom negative test result h1n1 virus rna consecutive day throat swab survival analysis evaluate adverse factor recovery day illness onset recovery early phase h1n1 epidemic <mark>potential risk</mark> factor assess include gender age chronic pulmonary disease time onset hospital admission general symptom respiratory symptom pharyngeal abnormality tonsil abnormality white blood cell count complication antiviral medication parameter recovery model estimate backward stepwise likelihood ratio test proportional hazard model censor patient consider recover twosided value confidence interval parameter calculate cumulative<br /><br /> ...</blockquote>"
            ],
            "text/plain": [
              "<IPython.core.display.HTML object>"
            ]
          },
          "metadata": {
            "tags": []
          }
        },
        {
          "output_type": "display_data",
          "data": {
            "text/html": [
              "<h1>SMOKING POTENTIAL RISKS</h1>"
            ],
            "text/plain": [
              "<IPython.core.display.HTML object>"
            ]
          },
          "metadata": {
            "tags": []
          }
        },
        {
          "output_type": "display_data",
          "data": {
            "text/html": [
              "<p>\n",
              "                      <strong>Titulo:</strong> The COVID-19 challenge to cardiac electrophysiologists: optimizing resources at a referral center</br>\n",
              "                      <strong>ID:</strong> 1057ac505a565efbac12e9d66b7decdcb94ee978</br>\n",
              "                      <strong>Numero de vezes:</strong> 1\n",
              "                     </p>"
            ],
            "text/plain": [
              "<IPython.core.display.HTML object>"
            ]
          },
          "metadata": {
            "tags": []
          }
        },
        {
          "output_type": "display_data",
          "data": {
            "text/html": [
              "<blockquote>...junctional rhythm describe patient takotsubo-like presentation febrile condition risk lifethreatening arrhythmic event increase patient brugada syndrome strict qt interval monitor require medication currently investigation treatment covid-19 particular hydroxychloroquine antiretroviral medication prone cause qt prolongation subsequent proarrhythmic effect class iii antiarrhythmic drug like amiodarone carefully patient finally ep aware <mark>potential risk</mark> factor associate increase cardiovascular mortality covid-19 patient include age male gender hypertension treatment raas inhibitor hospital policy ep institution wear personal protective equipment ppe visit patient document suspect covid-19 infection line current guideline indication ppe include face mask protective eyewear gown glove covid-19-positive patient admit single-bed room droplet<br /><br /> ...</blockquote>"
            ],
            "text/plain": [
              "<IPython.core.display.HTML object>"
            ]
          },
          "metadata": {
            "tags": []
          }
        }
      ]
    },
    {
      "cell_type": "markdown",
      "metadata": {
        "id": "RsqLl9NfRywA"
      },
      "source": [
        "# Similaridade entre strings com fuzzywuzzy"
      ]
    },
    {
      "cell_type": "code",
      "metadata": {
        "id": "7YOq5177R0c5",
        "colab": {
          "base_uri": "https://localhost:8080/"
        },
        "outputId": "5412a0c9-71bb-4f73-d3cf-b43da87985c8"
      },
      "source": [
        "!pip install fuzzywuzzy"
      ],
      "execution_count": 91,
      "outputs": [
        {
          "output_type": "stream",
          "text": [
            "Collecting fuzzywuzzy\n",
            "  Downloading https://files.pythonhosted.org/packages/43/ff/74f23998ad2f93b945c0309f825be92e04e0348e062026998b5eefef4c33/fuzzywuzzy-0.18.0-py2.py3-none-any.whl\n",
            "Installing collected packages: fuzzywuzzy\n",
            "Successfully installed fuzzywuzzy-0.18.0\n"
          ],
          "name": "stdout"
        }
      ]
    },
    {
      "cell_type": "code",
      "metadata": {
        "id": "FIWrfNU1R6h3",
        "colab": {
          "base_uri": "https://localhost:8080/"
        },
        "outputId": "8749f0a1-f085-404c-8a03-07efb542314d"
      },
      "source": [
        "!pip install python-Levenshtein"
      ],
      "execution_count": 92,
      "outputs": [
        {
          "output_type": "stream",
          "text": [
            "Collecting python-Levenshtein\n",
            "\u001b[?25l  Downloading https://files.pythonhosted.org/packages/42/a9/d1785c85ebf9b7dfacd08938dd028209c34a0ea3b1bcdb895208bd40a67d/python-Levenshtein-0.12.0.tar.gz (48kB)\n",
            "\r\u001b[K     |██████▊                         | 10kB 14.9MB/s eta 0:00:01\r\u001b[K     |█████████████▌                  | 20kB 20.6MB/s eta 0:00:01\r\u001b[K     |████████████████████▏           | 30kB 13.5MB/s eta 0:00:01\r\u001b[K     |███████████████████████████     | 40kB 10.5MB/s eta 0:00:01\r\u001b[K     |████████████████████████████████| 51kB 3.0MB/s \n",
            "\u001b[?25hRequirement already satisfied: setuptools in /usr/local/lib/python3.6/dist-packages (from python-Levenshtein) (50.3.2)\n",
            "Building wheels for collected packages: python-Levenshtein\n",
            "  Building wheel for python-Levenshtein (setup.py) ... \u001b[?25l\u001b[?25hdone\n",
            "  Created wheel for python-Levenshtein: filename=python_Levenshtein-0.12.0-cp36-cp36m-linux_x86_64.whl size=144792 sha256=bf0d114ef4aa8f4242ff1de6928e3609a37200c5bbdbfef2234d6832573b5561\n",
            "  Stored in directory: /root/.cache/pip/wheels/de/c2/93/660fd5f7559049268ad2dc6d81c4e39e9e36518766eaf7e342\n",
            "Successfully built python-Levenshtein\n",
            "Installing collected packages: python-Levenshtein\n",
            "Successfully installed python-Levenshtein-0.12.0\n"
          ],
          "name": "stdout"
        }
      ]
    },
    {
      "cell_type": "code",
      "metadata": {
        "id": "hgfQNXUtR-Ps"
      },
      "source": [
        "from fuzzywuzzy import fuzz"
      ],
      "execution_count": 93,
      "outputs": []
    },
    {
      "cell_type": "markdown",
      "metadata": {
        "id": "pUalUezDSh-_"
      },
      "source": [
        "## Comparação com o texto completo"
      ]
    },
    {
      "cell_type": "code",
      "metadata": {
        "id": "yPArqQskSkB5"
      },
      "source": [
        "search_string = 'Severity of disease, including risk of fatality among symptomatic hospitalized patients, and high-risk patient groups'"
      ],
      "execution_count": 114,
      "outputs": []
    },
    {
      "cell_type": "code",
      "metadata": {
        "id": "Hhx1Wg4pSpnO",
        "colab": {
          "base_uri": "https://localhost:8080/"
        },
        "outputId": "8e63b770-3ded-46cb-e8af-3619f37a205a"
      },
      "source": [
        "search_string = spacy_token(search_string)\n",
        "print(search_string)"
      ],
      "execution_count": 115,
      "outputs": [
        {
          "output_type": "stream",
          "text": [
            "severity disease include risk fatality symptomatic hospitalized patient high risk patient group\n"
          ],
          "name": "stdout"
        }
      ]
    },
    {
      "cell_type": "markdown",
      "metadata": {
        "id": "Bq-Pczraf_4p"
      },
      "source": [
        "## Comparação com o text"
      ]
    },
    {
      "cell_type": "code",
      "metadata": {
        "id": "xYgyo3LlSscX"
      },
      "source": [
        "\n",
        "ratio = [] # Similaridade da string em ordem\n",
        "partial_ratio = [] # Similaridade da string parcial\n",
        "sort_ratio = [] # Ignora a ordem das palavras\n",
        "set_ratio = [] # Ignora palavras duplicadas\n",
        "for index, row in corona_df.iterrows():\n",
        "  ratio.append(fuzz.ratio(row['text'], search_string))\n",
        "  partial_ratio.append(fuzz.partial_ratio(row['text'], search_string))\n",
        "  sort_ratio.append(fuzz.token_sort_ratio(row['text'], search_string))\n",
        "  set_ratio.append(fuzz.token_set_ratio(row['text'], search_string))"
      ],
      "execution_count": 96,
      "outputs": []
    },
    {
      "cell_type": "code",
      "metadata": {
        "colab": {
          "base_uri": "https://localhost:8080/"
        },
        "id": "lUMfmSeFPY9T",
        "outputId": "74c2bb27-8218-4e54-b967-6caf03835391"
      },
      "source": [
        "func = [ratio, partial_ratio, sort_ratio, set_ratio ]\n",
        "for i in func:\n",
        "  print(f'A media de similaridade entre os textos é {np.array(i).mean()}') \n"
      ],
      "execution_count": 97,
      "outputs": [
        {
          "output_type": "stream",
          "text": [
            "A media de similaridade entre os textos é 1.242\n",
            "A media de similaridade entre os textos é 46.874\n",
            "A media de similaridade entre os textos é 1.254\n",
            "A media de similaridade entre os textos é 46.608\n"
          ],
          "name": "stdout"
        }
      ]
    },
    {
      "cell_type": "markdown",
      "metadata": {
        "id": "7m0XgG-xTznE"
      },
      "source": [
        "## Comparação com o abstract"
      ]
    },
    {
      "cell_type": "code",
      "metadata": {
        "id": "I_-oGOurT4Hk"
      },
      "source": [
        "corona_df['abstract'] = corona_df['abstract'].apply(spacy_token)"
      ],
      "execution_count": 98,
      "outputs": []
    },
    {
      "cell_type": "code",
      "metadata": {
        "id": "PbqVUKUuT9J8"
      },
      "source": [
        "ratio = [] # Similaridade da string em ordem\n",
        "partial_ratio = [] # Similaridade da string parcial\n",
        "sort_ratio = [] # Ignora a ordem das palavras\n",
        "set_ratio = [] # Ignora palavras duplicadas\n",
        "for index, row in corona_df.iterrows():\n",
        "  ratio.append(fuzz.ratio(row['abstract'], search_string))\n",
        "  partial_ratio.append(fuzz.partial_ratio(row['abstract'], search_string))\n",
        "  sort_ratio.append(fuzz.token_sort_ratio(row['abstract'], search_string))\n",
        "  set_ratio.append(fuzz.token_set_ratio(row['abstract'], search_string))"
      ],
      "execution_count": null,
      "outputs": []
    },
    {
      "cell_type": "code",
      "metadata": {
        "colab": {
          "base_uri": "https://localhost:8080/"
        },
        "id": "Ilr2btrTR_-w",
        "outputId": "9ba3cbe7-0ade-4d2e-fdf0-b458213c4c0b"
      },
      "source": [
        "func = [ratio, partial_ratio, sort_ratio, set_ratio ]\n",
        "for i in func:\n",
        "  print(f'A media de similaridade entre os abstract é {np.array(i).mean()}') "
      ],
      "execution_count": null,
      "outputs": [
        {
          "output_type": "stream",
          "text": [
            "A media de similaridade entre os abstract é 36.366\n",
            "A media de similaridade entre os abstract é 43.55\n",
            "A media de similaridade entre os abstract é 37.49\n",
            "A media de similaridade entre os abstract é 42.852\n"
          ],
          "name": "stdout"
        }
      ]
    },
    {
      "cell_type": "markdown",
      "metadata": {
        "id": "DYFbrFWgUN-q"
      },
      "source": [
        "## Retorno dos artigos mais similares"
      ]
    },
    {
      "cell_type": "code",
      "metadata": {
        "id": "am3DVYJQUPsD"
      },
      "source": [
        "scores = { }\n",
        "for index, row in corona_df.iterrows():\n",
        "  scores[row['paper_id']] = fuzz.partial_ratio(row['text'], search_string)"
      ],
      "execution_count": 116,
      "outputs": []
    },
    {
      "cell_type": "code",
      "metadata": {
        "id": "2QHyzR2qUdnr"
      },
      "source": [
        "# Ordenou com os maiores score\n",
        "import operator\n",
        "soted_score = sorted(scores.items(), key=operator.itemgetter(1), reverse=True)"
      ],
      "execution_count": 117,
      "outputs": []
    },
    {
      "cell_type": "code",
      "metadata": {
        "colab": {
          "base_uri": "https://localhost:8080/",
          "height": 1000
        },
        "id": "rjYKv4ByVYbK",
        "outputId": "f341510b-f605-4dbe-9fec-dda05fe78b24"
      },
      "source": [
        "pd.set_option('display.max_colwidth', -1)\n",
        "display(HTML(f'<h3>{search_string.upper()}</h3></br>'))\n",
        "for i in soted_score[:10]:\n",
        "  df = corona_df[corona_df['paper_id'] == i[0]]\n",
        "  display(HTML(f\"\"\"<p>\n",
        "                     <strong>Titulo:</strong> {df['title']}</br>\n",
        "                     <strong>ID:</strong> {i[0]}</br>\n",
        "                     <strong>Score:</strong> {i[1]}</br>\n",
        "                     <strong>Abstract:</strong> {str(df['abstract'])[0:700]}</br>\n",
        "                     <strong>Text:</strong> {str(df['text'])[0:900]}\n",
        "                  </p> </br></br>\"\"\"))\n"
      ],
      "execution_count": 118,
      "outputs": [
        {
          "output_type": "stream",
          "text": [
            "/usr/local/lib/python3.6/dist-packages/ipykernel_launcher.py:1: FutureWarning: Passing a negative integer is deprecated in version 1.0 and will not be supported in future version. Instead, use None to not limit the column width.\n",
            "  \"\"\"Entry point for launching an IPython kernel.\n"
          ],
          "name": "stderr"
        },
        {
          "output_type": "display_data",
          "data": {
            "text/html": [
              "<h3>SEVERITY DISEASE INCLUDE RISK FATALITY SYMPTOMATIC HOSPITALIZED PATIENT HIGH RISK PATIENT GROUP</h3></br>"
            ],
            "text/plain": [
              "<IPython.core.display.HTML object>"
            ]
          },
          "metadata": {
            "tags": []
          }
        },
        {
          "output_type": "display_data",
          "data": {
            "text/html": [
              "<p>\n",
              "                     <strong>Titulo:</strong> 113719    The COVID-19 pandemic: implications for the cytology laboratory\n",
              "Name: title, dtype: object</br>\n",
              "                     <strong>ID:</strong> 4e086846c1db8114fbafd35c126f2be803d7b86d</br>\n",
              "                     <strong>Score:</strong> 56</br>\n",
              "                     <strong>Abstract:</strong> 113719    coronavirus disease covid-19 pandemic cause sars cov-2 virus infection predominantly respiratory transmission transmit large droplet aerosol commonly contact infected surface fomite alarming spread infection severe clinical disease cause lead widespread institution social distancing measure repeat exposure potentially infectious patient specimen health care laboratory personnel particularly susceptible contract covid-19 review paper provide assessment current state knowledge disease pathology potential presence virus cytology specimen discuss measure cytology laboratory function pandemic minimize risk personnel trainee pathologist addition explore potential mean continue educate tr</br>\n",
              "                     <strong>Text:</strong> 113719    time write review covid-19 pandemic cause novel coronavirus affect people country territory kill people worldwide numb case report worldwide unite state increase daily alarm rate consequence widespread test fear global coronavirus covid-19 pandemic disease cause sars-cov-2 virus continue grow cytology laboratory brace continue offer well service patient protect technician technologist trainee pathologist recently series public health measure take reduce spread disease social distance measure vary somewhat state city generally wide-ranging include cancel sport music cultural political event close gym school college recommendation work home avoid discretionary travel avoid eat drink bar restaurant food court avoid social gathering group people situation unprecedented 100-year-old precedent forget h1n1 spanish influenza pandemic infect world population people die worldwide include\n",
              "                  </p> </br></br>"
            ],
            "text/plain": [
              "<IPython.core.display.HTML object>"
            ]
          },
          "metadata": {
            "tags": []
          }
        },
        {
          "output_type": "display_data",
          "data": {
            "text/html": [
              "<p>\n",
              "                     <strong>Titulo:</strong> 2304    Tracking Nosocomial Diseases at Individual Level with a Real-Time Indoor Positioning System\n",
              "Name: title, dtype: object</br>\n",
              "                     <strong>ID:</strong> 623fb8ad6037966919e2feccfaf25068892779bb</br>\n",
              "                     <strong>Score:</strong> 56</br>\n",
              "                     <strong>Abstract:</strong> 2304    research motivate rapidly evolve outbreak rare fatal infectious disease example severe acute respiratory syndrome sars middle east respiratory syndrome outbreak main transmission route healthcare facility associate person person contact majority exist work modelling spread infectious disease focus transmission process community level propose new methodology model outbreak healthcare associate infection hais consider individual level work contribute novel aspect integrate real time position technology tracking modelling framework effective hai outbreak control prompt response propose solution methodology develop base key component -time vary contact network construction individual lev</br>\n",
              "                     <strong>Text:</strong> 2304    nosocomial infection know healthcare-associated infection hais infection acquire healthcare set catch inpatient hospital stay develope patient healthcare staff healthcare facility hais great challenge modern world global threat health security magill al. estimate hais u.s acute care hospital report patient death relate hais different type transmission route hais important common person-to-person contact know direct-contact transmission personto-person contact transmission take place physical contact infect colonize individual susceptible person diseasecausing microorganism transfered case incubation period infectious disease unawareness disease severity disease spread hospital index patient identify quarantine strike example recent hai outbreak person-to-person contact transmission spread middle east respiratory syndrome coronavirus mers-cov saudi arabia assiri al. report confirm\n",
              "                  </p> </br></br>"
            ],
            "text/plain": [
              "<IPython.core.display.HTML object>"
            ]
          },
          "metadata": {
            "tags": []
          }
        },
        {
          "output_type": "display_data",
          "data": {
            "text/html": [
              "<p>\n",
              "                     <strong>Titulo:</strong> 33228    Journal Pre-proof SURGICAL RESECTIONS OF SUPERINFECTED PNEUMATOCELES IN A COVID-19 PATIENT\n",
              "Name: title, dtype: object</br>\n",
              "                     <strong>ID:</strong> df09f4d3a6cfeff26af256c7eba01e90b17245ef</br>\n",
              "                     <strong>Score:</strong> 55</br>\n",
              "                     <strong>Abstract:</strong> 33228    emerge study radiological finding covid-19 patient report high incidence bilateral lung involvement ggos image common pattern ct cystic lesion pneumatocele rare occur case cyst formation explain focal pulmonary trauma mechanical ventilation and/or infection relate damage alveolar wall lead pneumatocele superinfection pneumatocele potential lifethreating condition standardize therapeutic algorithm accept report case covid-19 patient successfully treat lung resection infected pneumatocele word count\n",
              "Name: abstract, dtype: object</br>\n",
              "                     <strong>Text:</strong> 33228    early december case pneumonia sars-cov-2 identify wuhan china covid-19 rapidly pandemic cause case death worldwide common clinical presentation include fever cough bilateral ggos covid-19 show wide spectrum severity range asymptomatic case patient admit icu ards patient pneumatoceles occur damage alveolar wall cause infection lung ventilation superinfection represent potential life-threatening complication pneumatoceles case urgent surgical approach recommend year-old non-smoker male arrive emergency department hospital cremona week patient extubated niv start patient transfer department medicine continue medical therapy oxygen support day late patient re-admit icu intubate acute respiratory failure sepsis blood culture result reveal staphylococcus haemolyticus specific antibiotic administer base antibiogram report clinical condition progressively worsen high fever persist septi\n",
              "                  </p> </br></br>"
            ],
            "text/plain": [
              "<IPython.core.display.HTML object>"
            ]
          },
          "metadata": {
            "tags": []
          }
        },
        {
          "output_type": "display_data",
          "data": {
            "text/html": [
              "<p>\n",
              "                     <strong>Titulo:</strong> 94441    Copious production of SARS-CoV nucleocapsid protein employing codon optimized synthetic gene\n",
              "Name: title, dtype: object</br>\n",
              "                     <strong>ID:</strong> a2a391086724c20993fec522863d63007a362744</br>\n",
              "                     <strong>Score:</strong> 54</br>\n",
              "                     <strong>Abstract:</strong> 94441    severe acute respiratory syndrome coronavirus sars cov nucleocapsid protein np predominant antigenic protein abundant shed antigen sars cov infection feature make suitable molecular target diagnostic application study length codon optimize np gene subfragment gene segment clone bacterial expression vector length np express e. coli high level inclusion body inclusion body successfully solubilized purify denature condition employ imac column refolde non glycosylated np immunize mouse hybridoma development polyclonal antiserum animal immunize recombinant np protein find specifically recognize np subfragment demonstrate immunogenic nature recombinant protein np antigen subfragment usefu</br>\n",
              "                     <strong>Text:</strong> 94441    severe acute respiratory syndrome sars new infectious disease cause sars-cov recognize china similar outbreak occur hong kong singapore toronto make initial hot zone sars accord world health organization outbreak sars epidemic infect people globally result death individual coronavirus rna virus contain positive-sense single strand rna genome kb analysis nucleotide sequence novel sars-cov show viral genome nearly kb length contain potential open read frame flank untranslational region sars-cov contain major structural gene open read frame include spike membrane envelope nucleocapsid protein np set accessory protein numb sequence vary different coronavirus continual lack rapid sensitive antigen test assist diagnosis suspect case turn probable case sars make area pri- correspond author ority research effort develop inexpensive point care rapid diagnostics major diagnostic method cu\n",
              "                  </p> </br></br>"
            ],
            "text/plain": [
              "<IPython.core.display.HTML object>"
            ]
          },
          "metadata": {
            "tags": []
          }
        },
        {
          "output_type": "display_data",
          "data": {
            "text/html": [
              "<p>\n",
              "                     <strong>Titulo:</strong> 13888    Secondary Syphilis in Cali, Colombia: New Concepts in Disease Pathogenesis\n",
              "Name: title, dtype: object</br>\n",
              "                     <strong>ID:</strong> 2246e28681bde69c65dc9081df367bb661997f19</br>\n",
              "                     <strong>Score:</strong> 54</br>\n",
              "                     <strong>Abstract:</strong> 13888    venereal syphilis multi stage sexually transmit disease cause spirochetal bacterium treponema pallidum tp describe cohort patient age year secondary syphili ss identify network public sector primary health care provider cali colombia eligible participation study subject require cutaneous lesion consistent ss reactive rapid plasma reagin test rpr titer 1:4 confirmatory treponemal test fluorescent treponemal antibody absorption test fta abs subject enrol woman predominantly afro colombian mestizo low socio economic status subject newly diagnose hiv infection study entry duration sign symptom patient day patient report symptomatic month range day typical palmar plantar exanthem ss comm</br>\n",
              "                     <strong>Text:</strong> 13888    syphilis sexually transmit disease std cause spirochetal bacterium treponema pallidum tp subspecies pallidum despite existence inexpensive effective antibiotic treatment regimen syphilis continue major public health problem accord recent world health organization estimate approximately new syphilis case occur yearly globe venereal syphilis re-emerge develope country individual acquire disease reside affluent region world cali colombia latin american study site yearly incidence venereal syphilis decade estimate case ge aristizabal city cali health department std divisionpersonal communication approximation significantly high western europe unite state base high rate document gestational congenital syphilis rate city likely underestimate true prevalence venereal syphilis cali recent study conduct collaborator sexually active year old man woman different socioeconomically deprive c\n",
              "                  </p> </br></br>"
            ],
            "text/plain": [
              "<IPython.core.display.HTML object>"
            ]
          },
          "metadata": {
            "tags": []
          }
        },
        {
          "output_type": "display_data",
          "data": {
            "text/html": [
              "<p>\n",
              "                     <strong>Titulo:</strong> 25039    Journal Pre-proof Effect on Thromboprophylaxis among Hospitalized Patients Using a System-wide Multifaceted Quality Improvement Intervention: Rationale and Design for a Multicenter Cluster Randomized Clinical Trial in China Thromboprophylaxis among Hospitalized Patients Using a System-wide Multifaceted Quality Improvement Intervention: Rationale and Design for a Multicenter Cluster Effect on Thromboprophylaxis among Hospitalized Patients Using a System-wide Multifaceted Quality Improvement Intervention: Rationale and Design for a Multicenter Cluster Randomized Clinical Trial in China\n",
              "Name: title, dtype: object</br>\n",
              "                     <strong>ID:</strong> e2388effbb8ca0373f331595d9f0ebd1a816b786</br>\n",
              "                     <strong>Score:</strong> 54</br>\n",
              "                     <strong>Abstract:</strong> 25039    journal pre proof -p journal pre proof -p abstract background venous thromboembolism vte life threaten disease affect hospitalize patient current hospital thromboprophylaxi remain suboptimal exist large gap clinical practice guideline recommend care china method facilitate implementation guideline recommendation conduct multicenter adjudicator blinded cluster randomize clinical trial aim assess effectiveness system wide multifacete quality improvement qi strategy vte prophylaxis improvement thromboembolism reduction clinical setting hospital randomize intervention control group intervention group hospital receive concept appropriate hospital thromboprophylaxi plus multifacete qi enc</br>\n",
              "                     <strong>Text:</strong> 25039    venous thromboembolism vte emerge health threat affect hospitalize patient approximately vte hospital-associated vte ha-vte occur hospitalization day discharge underlie vte burden population global problem face country enhance healthcare provider adherence recommend care facilitate implementation appropriate thromboprophylaxis develop system-wide multifaceted quality improvement qi strategy multidisciplinary group hospital staff doctor nurse administrator pharmacist etc wide range department engage carry qi give inpatient vte risk factor hospital stay qi strategy need comprehensive systematic delivery thromboprophylaxis patient examine effectiveness vte reduction determine well implement recommend prophylaxis conduct multicenter cluster randomize trial eligible hospital select chinese prevention strategy venous -p conduct multicenter trial assess effect qi thromboprophylaxis lar\n",
              "                  </p> </br></br>"
            ],
            "text/plain": [
              "<IPython.core.display.HTML object>"
            ]
          },
          "metadata": {
            "tags": []
          }
        },
        {
          "output_type": "display_data",
          "data": {
            "text/html": [
              "<p>\n",
              "                     <strong>Titulo:</strong> 88252    Early Phase of the COVID-19 Outbreak in Hungary and Post-Lockdown Scenarios\n",
              "Name: title, dtype: object</br>\n",
              "                     <strong>ID:</strong> 216f1c9f38301cac977dc44ee0d06b86fa3db69d</br>\n",
              "                     <strong>Score:</strong> 53</br>\n",
              "                     <strong>Abstract:</strong> 88252    covid-19 epidemic suppress hungary timely non pharmaceutical intervention prompt considerable reduction number contact transmission virus strategy effective prevent epidemic growth reduce incidence covid-19 low level report present epidemiological statistical analysis early phase covid-19 outbreak hungary establish age structure compartmental model explore alternative post lockdown scenario incorporate factor age specific measure seasonal effect spatial heterogeneity project possible peak size disease burden covid-19 epidemic wave current measure relax\n",
              "Name: abstract, dtype: object</br>\n",
              "                     <strong>Text:</strong> 88252    cluster pneumonia case unknown origin detect wuhan city capital hubei province china population december december china alert world health organization china country office january causative pathogen pneumonia outbreak identify novel coronavirus february officially name novel coronavirus sars-cov-2 disease cause covid-19 sars-cov-2 infection quickly spread china emerge december europe case confirm january france late april covid-19 retrospectively confirm patient hospitalize late december time january infection germany confirm bavaria lead local outbreak february subsequent case confirm high-risk contact identify agile contact-tracing epidemic europe start lombardy region italy detection february director-general declare covid-19 outbreak public health emergency international concern international health regulation 30january pandemic march time numb daily new case covid-19 count\n",
              "                  </p> </br></br>"
            ],
            "text/plain": [
              "<IPython.core.display.HTML object>"
            ]
          },
          "metadata": {
            "tags": []
          }
        },
        {
          "output_type": "display_data",
          "data": {
            "text/html": [
              "<p>\n",
              "                     <strong>Titulo:</strong> 72972    MACROPHAGE EXPRESSION AND PROGNOSTIC SIGNIFICANCE OF THE LONG PENTRAXIN PTX3 IN COVID-19\n",
              "Name: title, dtype: object</br>\n",
              "                     <strong>ID:</strong> 6f20b20caef73473780189d1484fda82061f2299</br>\n",
              "                     <strong>Score:</strong> 53</br>\n",
              "                     <strong>Abstract:</strong> 72972    ptx3 essential component humoral innate immunity involve resistance select pathogen regulation inflammation ptx3 plasma level associate poor outcome systemic inflammatory condition vascular pathology present study design assess expression significance ptx3 covid-19 bioinformatics analysis public database ptx3 expression detect lung respiratory cell line expose sars cov-2 analysis single cell level covid-19 circulate mononuclear cell find ptx3 selectively express monocyte circulate leukocyte lung bronchoalveolar lavage fluid single cell analysis reveal selective expression ptx3 neutrophil macrophage play major role pathogenesis disease immunohistochemistry ptx3 express lung myelomocy</br>\n",
              "                     <strong>Text:</strong> 72972    highly pathogenic betacoronaviruses cause severe acute respiratory syndrome sars middle east respiratory syndrome mers currently pandemic covid-19 affect low respiratory tract lead critical acute respiratory distress syndrome ards fatality high percentage case sars-cov-2 infection characterize variable clinical form symptom include fever cough general malaise mild moderate case progress severe pneumonia ards shock and/or multiple organ failure require hospitalization intensive care unit icu severe case high morbidity mortality observe covid-19 pandemic cause alveolar damage pneumonia cardiovascular complication multiorgan failure sars-cov-2 interact ace2 express pneumocytes alveolar line lead lung injury ace2 widely express endothelial cell possibly explain evidence direct viral infection endothelium diffuse endothelial inflammation widespread microvascular dysfunction lead orga\n",
              "                  </p> </br></br>"
            ],
            "text/plain": [
              "<IPython.core.display.HTML object>"
            ]
          },
          "metadata": {
            "tags": []
          }
        },
        {
          "output_type": "display_data",
          "data": {
            "text/html": [
              "<p>\n",
              "                     <strong>Titulo:</strong> 31273    Association of renin-angiotensin-aldosterone system inhibitors with COVID-19-related outcomes in Korea: a nationwide population-based cohort study\n",
              "Name: title, dtype: object</br>\n",
              "                     <strong>ID:</strong> 83cec622d480f0475cdf40565dcc7954f0b8c9b7</br>\n",
              "                     <strong>Score:</strong> 53</br>\n",
              "                     <strong>Abstract:</strong> 31273    hospital mortality rate high raas inhibitor user nonuser raas inhibitor user old likely comorbiditie raas inhibitor use independently associate high risk mortality covid-19 patient background renin angiotensin aldosterone system raas inhibitor facilitate host cell entry severe acute respiratory syndrome coronavirus sars cov-2 attenuate organ injury raas blockade aim assess association prior use raas inhibitor clinical outcome korean patient coronavirus covid-19 perform nationwide population base cohort study korean health insurance review assessment database claim record screen individual test covid-19 april adjusted odd ratio ors compare clinical outcome raas inhibitor user nonuser</br>\n",
              "                     <strong>Text:</strong> 31273    late pneumonia case undetermined cause identify wuhan hubei province china similar case rapidly observe chinese province country january novel coronavirus severe acute respiratory syndrome coronavirus sars-cov-2 isolate patient correspond disease subsequently name coronavirus covid-19 world health organization severe case include case result death observe old patient patient comorbidity include hypertension coronary artery disease diabetes chronic kidney disease sars-cov-1 sars-cov-2 require human angiotensin-converting enzyme ace2 enter host cell interestingly ace2 expression increase patient diabetes treatment renin-angiotensin-aldosterone system raas inhibitor ace inhibitor angiotensin receptor blocker arbs give mechanism fact chinese study identify severe outcome covid-19 patient comorbidity meet indication ace inhibitor arbs concern use drug covid-19 case addition sars-cov-\n",
              "                  </p> </br></br>"
            ],
            "text/plain": [
              "<IPython.core.display.HTML object>"
            ]
          },
          "metadata": {
            "tags": []
          }
        },
        {
          "output_type": "display_data",
          "data": {
            "text/html": [
              "<p>\n",
              "                     <strong>Titulo:</strong> 51929    CLINRE-1458\n",
              "Name: title, dtype: object</br>\n",
              "                     <strong>ID:</strong> f56f09520ee93b9890dba4f5e0a8dc57ba029f87</br>\n",
              "                     <strong>Score:</strong> 52</br>\n",
              "                     <strong>Abstract:</strong> 51929    novel coronavirus pneumonia life threaten disease affect people globally especially people live china high prevalence hepatobiliary disease observe 2019-ncov patient require emergency surgery context novel coronavirus pneumonia new challenge arise surgeon term way effectively treat outpatient safety medical staff perform surgery treatment lack efficient postoperative management follow procedure hope article surgeon well system hepatobiliary disease classification treatment selection protective measure improve clinical practice accordance guideline diagnosis treatment novel coronavirus pneumonia\n",
              "Name: abstract, dtype: object</br>\n",
              "                     <strong>Text:</strong> 51929    present 2019-ncov epidemic situation actively combat worldwide hepatobiliary surgeon attach great importance prevention control epidemic situation write article vigilant clinical work standardize operation scientifically control spread sars-cov-2 virus end novel coronavirus 2019-ncov infect pneumonia discover diagnose wuhan china spread china surround country region february world health organization name novel coronavirus pneumonia covid-19 corona virus disease 2019-ncov international virus classification commission name virus sars-cov-2 severe acute respiratory syndrome coronavirus sars-cov-2 2019-ncov envelop non-segmented positivesense single-stranded rna coronavirus particle round oval diameter nm novel coronavirus belong genus group sars-cov polygenetic analysis virus indicate originate bat intermediary animal host know study suggest pangolins mink snake intermediate host \n",
              "                  </p> </br></br>"
            ],
            "text/plain": [
              "<IPython.core.display.HTML object>"
            ]
          },
          "metadata": {
            "tags": []
          }
        }
      ]
    },
    {
      "cell_type": "code",
      "metadata": {
        "id": "dUdsjHmj900A"
      },
      "source": [
        ""
      ],
      "execution_count": null,
      "outputs": []
    }
  ]
}